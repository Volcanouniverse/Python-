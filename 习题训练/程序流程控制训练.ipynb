{
 "cells": [
  {
   "cell_type": "markdown",
   "id": "8a308ff3",
   "metadata": {},
   "source": [
    "### 一.基础训练\n",
    "___"
   ]
  },
  {
   "cell_type": "markdown",
   "id": "33f5b308",
   "metadata": {},
   "source": [
    "#### 1.输入年份，判断是否为闰年"
   ]
  },
  {
   "cell_type": "code",
   "execution_count": null,
   "id": "c339b258",
   "metadata": {},
   "outputs": [],
   "source": []
  },
  {
   "cell_type": "markdown",
   "id": "d1901e22",
   "metadata": {},
   "source": [
    "#### 2.使用多分支选择结构将成绩从百分制转换为等级制\n",
    "|等级|成绩|\n",
    "|---|---|\n",
    "|A|90~100|\n",
    "|B|80~89|\n",
    "|C|70~79|\n",
    "|D|60~69|\n",
    "|E|0~59|"
   ]
  },
  {
   "cell_type": "code",
   "execution_count": null,
   "id": "f8cf9c56",
   "metadata": {},
   "outputs": [],
   "source": []
  },
  {
   "cell_type": "markdown",
   "id": "cf599e34",
   "metadata": {},
   "source": [
    "#### 3. 已知坐标点（x,y）,判断其所在的象限"
   ]
  },
  {
   "cell_type": "code",
   "execution_count": null,
   "id": "2956f284",
   "metadata": {},
   "outputs": [],
   "source": []
  },
  {
   "cell_type": "markdown",
   "id": "b9505716",
   "metadata": {},
   "source": [
    "#### 4.出租车计价程序\n",
    "下面是某城市出租车收费标准：\n",
    "- 起步里程为3公里，起步费10元；\n",
    "- 超起步里程后10公里以内，每公里2元；\n",
    "- 超过10公里以上的部分加收50%的回空补贴费，即每公里3元。\n",
    "\n",
    "请根据该标准编写出租车计费程序，输入总里程数，输出应付费用。"
   ]
  },
  {
   "cell_type": "code",
   "execution_count": null,
   "id": "df89ed6f",
   "metadata": {},
   "outputs": [],
   "source": []
  },
  {
   "cell_type": "markdown",
   "id": "13027ce6",
   "metadata": {},
   "source": [
    "#### 5.百鸡百钱问题\n",
    "我国古代数学家张丘建在《算经》一书中提出的数学问题：“鸡翁一值钱五，鸡母一值钱三，鸡雏三值钱一。百钱买百鸡，问鸡翁、鸡母、鸡雏各几何？”"
   ]
  },
  {
   "cell_type": "code",
   "execution_count": null,
   "id": "ee4eef94",
   "metadata": {},
   "outputs": [],
   "source": []
  },
  {
   "cell_type": "markdown",
   "id": "952cd434",
   "metadata": {},
   "source": [
    "#### 6.取款机密码验证的参考实现\n",
    "在取款机上取款时需要输入6位银行卡密码。下面模拟一个简单的取款机（密码只有1位数字），\n",
    "- 每次要求用户输入1位数字密码，密码正确输出“密码输入正确，正进入系统…”；\n",
    "- 如果输入错误，输出“密码输入错误，您已经输入*次”，密码连续输入错误5次后输出“密码输入错误，您还可以输入1次密码”，密码连续输入错误6次后输出“您的卡将被锁死，请和发卡行联系”。"
   ]
  },
  {
   "cell_type": "code",
   "execution_count": null,
   "id": "0bd69592",
   "metadata": {},
   "outputs": [],
   "source": []
  },
  {
   "cell_type": "markdown",
   "id": "24c5fe5c",
   "metadata": {},
   "source": [
    "#### 7.编写程序判断输入的大于1的整数是否是素数。\n",
    "素数，又称质数，是指一个大于1的自然数，除了1和它本身外，不能被其他自然数整除的数。换句话说，素数是只能被1和自身整除的正整数。\n",
    "\n",
    "设计：用枚举法判断一个大于1的自然数是否是素数"
   ]
  },
  {
   "cell_type": "code",
   "execution_count": null,
   "id": "162bfbf9",
   "metadata": {},
   "outputs": [],
   "source": []
  },
  {
   "cell_type": "markdown",
   "id": "90e486ca",
   "metadata": {},
   "source": [
    "#### 8.综合利用`break`和`continue`语句输出小于100的最大素数"
   ]
  },
  {
   "cell_type": "code",
   "execution_count": null,
   "id": "48e8ce1c",
   "metadata": {},
   "outputs": [],
   "source": []
  },
  {
   "cell_type": "markdown",
   "id": "fb40733a",
   "metadata": {},
   "source": [
    "#### 9. 求两个数的最大公约数\n",
    "##### 9.1 更相减损法\n",
    "将两个数a和b相减，如果差c等于0，那么最大公约数为a，如果c不等于0，则将b和c中的较大数赋值给a，较小数赋值给b，继续相减直到差等于0，此时a的值就是最大公约数。"
   ]
  },
  {
   "cell_type": "code",
   "execution_count": null,
   "id": "d781f82a",
   "metadata": {},
   "outputs": [],
   "source": []
  },
  {
   "cell_type": "markdown",
   "id": "8481a07b",
   "metadata": {},
   "source": [
    "##### 9.2 辗转相除法\n",
    "将两个数a和b相除，大数a作为被除数，小数b作为除数，若二者余数不为0，则将小数作为被除数，余数作为除数，…直到余数为0，小数b就是最大公约数。"
   ]
  },
  {
   "cell_type": "code",
   "execution_count": null,
   "id": "09c364ce",
   "metadata": {},
   "outputs": [],
   "source": []
  },
  {
   "cell_type": "markdown",
   "id": "5d6ac6b7",
   "metadata": {},
   "source": [
    "#### 10.用如下近似公式求自然对数的底数e的值，直到最后一项的绝对值小于$10^{-6}$为止\n",
    "$e\\approx 1+\\frac{1}{1!}+\\frac{1}{2!}+...+\\frac{1}{n!}$"
   ]
  },
  {
   "cell_type": "code",
   "execution_count": null,
   "id": "ce6ea188",
   "metadata": {},
   "outputs": [],
   "source": []
  },
  {
   "cell_type": "markdown",
   "id": "8c7ba3b0",
   "metadata": {},
   "source": [
    "#### 11.案例：计算学生成绩的平均分\n",
    "##### 11.1 案例：标记不确定循环次数\n",
    "编写程序，输入某班若干个学生某次考试的成绩，输出平均分。"
   ]
  },
  {
   "cell_type": "code",
   "execution_count": null,
   "id": "300b72cc",
   "metadata": {},
   "outputs": [],
   "source": []
  },
  {
   "cell_type": "markdown",
   "id": "dfdabf01",
   "metadata": {},
   "source": [
    "##### 11.2 计数器控制的确定循环\n",
    "编写程序，输入某班10个学生某次考试的成绩，输出平均分"
   ]
  },
  {
   "cell_type": "code",
   "execution_count": null,
   "id": "7c4b92a4",
   "metadata": {},
   "outputs": [],
   "source": []
  },
  {
   "cell_type": "markdown",
   "id": "516339b3",
   "metadata": {},
   "source": [
    "#### 12.任意输入11个数，找出最大数和最小数\n",
    "- 数的范围无法确定\n",
    "- 第一个数作为（此时的）最大数和最小数\n",
    "- 将其余的数与最大数、最小数依次进行比较\n",
    "- 每次根据比较的结果更新（此时的）最大数和最小数\n",
    "- 用计数器控制的循环实现"
   ]
  },
  {
   "cell_type": "code",
   "execution_count": null,
   "id": "4f380d1f",
   "metadata": {},
   "outputs": [],
   "source": []
  },
  {
   "cell_type": "markdown",
   "id": "49ced869",
   "metadata": {},
   "source": [
    "### 二.实践作业\n",
    "___"
   ]
  },
  {
   "cell_type": "markdown",
   "id": "5f92e78a",
   "metadata": {},
   "source": [
    "#### 1. 编写程序，计算电报费用。电报计费规则：若为普通电报，每个字0.75元，如不足10个字，按10个字计算；若为加急电报，则前10个字计费规则不变，超过10个字的部分，每个字加倍收费。键盘输入报文字数和类型，计算并输出费用。"
   ]
  },
  {
   "cell_type": "code",
   "execution_count": null,
   "id": "4182ecc5",
   "metadata": {},
   "outputs": [],
   "source": []
  },
  {
   "cell_type": "markdown",
   "id": "b7e2c9a3",
   "metadata": {},
   "source": [
    "#### 2. 编写程序，输入x，根据下图所示的公式计算分段函数y的值。可以尝试用单分支语句、双分支语句以及条件运算语句实现。要求计算结果只显示4位小数。\n",
    "$$\n",
    "y\\ =\\ \\left\\{ \\begin{array}{l}\n",
    "\t\\frac{x^2-3x}{x+1}+2\\pi +\\sin x\\ \\ \\ \\ \\ \\ \\ \\ \\ \\ \\ \\ \\ \\ \\ \\ \\ \\ x\\ge 0\\\\\n",
    "\t\\ln \\left( -5x \\right) +6\\sqrt{\\left| x \\right|+e^4}-\\left( x+1 \\right) ^3\\ \\ \\ \\ x<0\\\\\n",
    "\\end{array} \\right. \n",
    "$$\n",
    "\n"
   ]
  },
  {
   "cell_type": "code",
   "execution_count": null,
   "id": "262e7abc",
   "metadata": {},
   "outputs": [],
   "source": []
  },
  {
   "cell_type": "markdown",
   "id": "63feeb10",
   "metadata": {},
   "source": [
    "#### 3. 编写程序，输入一个正整数N（10<=N<=1000），计算出N元人民币兑换成1元、2元和5元纸币的所有组合，要求组合中1元、2元和5元纸币都必须存在。输出每一种组合的情况以及总的组合数。"
   ]
  },
  {
   "cell_type": "code",
   "execution_count": null,
   "id": "7d50b15e",
   "metadata": {},
   "outputs": [],
   "source": []
  },
  {
   "cell_type": "markdown",
   "id": "ffced68e",
   "metadata": {},
   "source": [
    "#### 4. 猴子吃桃问题。猴子第1天摘下若干个桃子，当天吃掉一半多1个；第2天吃了剩下桃子的一半多1个；以后每天都吃了前一天剩下桃子的一半多1个。到第8天，发现只有一个桃子了。请问猴子第1天共摘了多少个桃子？"
   ]
  },
  {
   "cell_type": "code",
   "execution_count": null,
   "id": "8f97d006",
   "metadata": {},
   "outputs": [],
   "source": []
  },
  {
   "cell_type": "markdown",
   "id": "c3e2b68d",
   "metadata": {},
   "source": [
    "#### 5.许多公司对每周超出 40 小时以上的工作时间支付 150%的工资。编写程序输入工作小时数和小时工资，并计算一周的总工资。"
   ]
  },
  {
   "cell_type": "code",
   "execution_count": null,
   "id": "941740e5",
   "metadata": {},
   "outputs": [],
   "source": []
  },
  {
   "cell_type": "markdown",
   "id": "4673d3bc",
   "metadata": {},
   "source": [
    "#### 6.身体质量指数（Body Mass Index，简称BMI）的计算公式是体重（kg）÷身高$（m）^2$。成人的BMI数值如下：\n",
    "\n",
    "|BMI数值|对应的身体状况|\n",
    "|--|--|\n",
    "|小于18.5|过轻|\n",
    "|18.5-23.9|正常|\n",
    "|24-27|过重|\n",
    "|28-32|肥胖|\n",
    "|大于32|非常肥胖|\n",
    "\n",
    "编写一个程序，计算人的BMI，并打印一条消息，告诉他们的身体状况。"
   ]
  },
  {
   "cell_type": "code",
   "execution_count": null,
   "id": "21dbc31f",
   "metadata": {},
   "outputs": [],
   "source": []
  },
  {
   "cell_type": "markdown",
   "id": "609ad54a",
   "metadata": {},
   "source": [
    "#### 7.某气象局使用以下公式计算风寒指数：\n",
    "$35.74 + 0.6215T − 35.75(V^0.16)+0.4275T (V^0.16)$\n",
    "\n",
    "其中， T 是以华氏度为单位的温度， V 是以小时为单位的风速。\n",
    "\n",
    "编程打印一张格式漂亮的风寒指数表格。行代表风速为 0～50，以 5 英里/小时为增量，列表示温度从−20～+60，以 10 度为增量。注意：该公式仅适用于每小时超过 3 英里的风速。"
   ]
  },
  {
   "cell_type": "code",
   "execution_count": null,
   "id": "1968d595",
   "metadata": {},
   "outputs": [],
   "source": []
  },
  {
   "cell_type": "markdown",
   "id": "525c586e",
   "metadata": {},
   "source": [
    "#### 8.用 while 循环编程，来确定投资在特定利率下翻倍需要多长时间。输入是年利率，输出是投资增加一倍的年数。注：初始投资金额无关紧要，你可以用 1 元。"
   ]
  },
  {
   "cell_type": "code",
   "execution_count": null,
   "id": "b3058795",
   "metadata": {},
   "outputs": [],
   "source": []
  },
  {
   "cell_type": "markdown",
   "id": "fc43723f",
   "metadata": {},
   "source": [
    "#### 9.Syracuse（也称为“Collatz”或“Hailstone”）序列的生成从一个自然数开始，重复应用以下函数，直到达到 1：\n",
    "\n",
    "syr(x) = x/2， x为偶数\n",
    "\n",
    "syr(x) = 3x+1， x为奇数\n",
    "\n",
    "例如，从 5 开始的 Syracuse 序列是 5,16,8,4,2,1。数学中有一个悬而未决的问题：对于每个可能的起始值，该序列是否总会到达 1。编程从用户获取起始值，然后打印该起始值的 Syracuse 序列。"
   ]
  },
  {
   "cell_type": "code",
   "execution_count": null,
   "id": "5774c207",
   "metadata": {},
   "outputs": [],
   "source": []
  },
  {
   "cell_type": "markdown",
   "id": "f9f576e7",
   "metadata": {},
   "source": [
    "### 三. 实践指导\n",
    "___"
   ]
  },
  {
   "cell_type": "markdown",
   "id": "26b8ce61",
   "metadata": {},
   "source": [
    "#### 应用案例1：猜数游戏程序（基础版）\n",
    "编写一个猜数游戏程序：随机产生一个1至100范围内的数，提示玩家来猜这个数，直到猜对为止。"
   ]
  },
  {
   "cell_type": "code",
   "execution_count": null,
   "id": "0adabc1e",
   "metadata": {},
   "outputs": [],
   "source": []
  },
  {
   "cell_type": "markdown",
   "id": "37219c0a",
   "metadata": {},
   "source": [
    "#### 应用案例1：猜数游戏程序（改进思路）\n",
    "__1. 提高可玩性__\n",
    "\n",
    "如果用户猜的不对，给用户更多的提示,例如“你猜的数太大了”\n",
    "\n",
    "__2. 提高趣味性__\n",
    "\n",
    "- 统计用户猜的次数，并给出评价\n",
    "- 限制最大猜测次数\n",
    "\n",
    "__3. 增强功能__\n",
    "\n",
    "一次游戏结束后，询问用户是否再玩一次"
   ]
  },
  {
   "cell_type": "code",
   "execution_count": null,
   "id": "9ca69c86",
   "metadata": {},
   "outputs": [],
   "source": []
  },
  {
   "cell_type": "markdown",
   "id": "179961ba",
   "metadata": {},
   "source": [
    "#### 应用案例2：用蒙特卡洛方法估算圆周率\n",
    "1. 蒙特卡洛方法是一种基于概率的数值计算方法\n",
    "2. 这个方法不是特指一种技术，而是一类基于概率和统计方法的统称。\n",
    "3. 基本思想是利用随机数（或更常见的伪随机数）来解决许多计算问题。\n",
    "4. 蒙特卡洛方法可以用来估算圆周率，步骤如下：\n",
    "- 在一个边长为1的正方形内部画一个四分之一圆，其半径为1。\n",
    "- 随机在正方形内抛撒点，记录总的抛点数N和落在四分之一圆内的点数M。\n",
    "- 根据随机点落在四分之一圆内的概率等于四分之一圆与正方形的面积之比，可以得到公式：\n",
    "$$\n",
    " M/N =\\ \\text{四分之一圆的面积/正方形的面积}=\\ \\text{（}\\pi \\cdot 1^2/4\\text{）/}1^2 =\\ \\ \\ \\pi /4\n",
    "$$\n",
    "\n",
    "\n",
    "（4）从而可以估计出$\\pi = 4 \\cdot M / N$ "
   ]
  },
  {
   "cell_type": "code",
   "execution_count": null,
   "id": "bfee4216",
   "metadata": {},
   "outputs": [],
   "source": []
  }
 ],
 "metadata": {
  "kernelspec": {
   "display_name": "volcano",
   "language": "python",
   "name": "python3"
  },
  "language_info": {
   "name": "python",
   "version": "3.12.7"
  }
 },
 "nbformat": 4,
 "nbformat_minor": 5
}
