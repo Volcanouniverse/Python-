{
 "cells": [
  {
   "cell_type": "markdown",
   "id": "5cce235a",
   "metadata": {},
   "source": [
    "### 一. 基础知识练习\n",
    "___"
   ]
  },
  {
   "cell_type": "markdown",
   "id": "538fb35f",
   "metadata": {},
   "source": [
    "#### 1. 函数的定义和调用"
   ]
  },
  {
   "cell_type": "code",
   "execution_count": 3,
   "id": "b84c9cfe",
   "metadata": {},
   "outputs": [
    {
     "name": "stdout",
     "output_type": "stream",
     "text": [
      "**********\n",
      "**********\n",
      "**********\n",
      "**********\n",
      "**********\n"
     ]
    }
   ],
   "source": [
    "# 定义一个名称为 draw_rect 的函数，功能是绘制指定大小（高度和宽度）的星号矩形，高度和宽度是绘制矩形的参数\n",
    "def draw_react(height,width):\n",
    "    for i in range(height):\n",
    "        print(\"*\" * width)\n",
    "\n",
    "# 调用 draw_rect 函数，绘制高度为 5，宽度为 10 的星号矩形\n",
    "draw_react(5,10) "
   ]
  },
  {
   "cell_type": "markdown",
   "id": "4e163223",
   "metadata": {},
   "source": [
    "#### 2. 参数的传递"
   ]
  },
  {
   "cell_type": "markdown",
   "id": "c285a709",
   "metadata": {},
   "source": [
    "##### 2.1 位置参数、关键字参数"
   ]
  },
  {
   "cell_type": "code",
   "execution_count": 10,
   "id": "eff243ca",
   "metadata": {},
   "outputs": [
    {
     "name": "stdout",
     "output_type": "stream",
     "text": [
      "*****\n",
      "*****\n",
      "*****\n",
      "\n",
      "*****\n",
      "*****\n",
      "*****\n",
      "\n",
      "*****\n",
      "*****\n",
      "*****\n"
     ]
    }
   ],
   "source": [
    "def draw_rect(width,height,star):\n",
    "    for i in range(height):\n",
    "        print(star*width)\n",
    "\n",
    "# 位置参数\n",
    "draw_rect(5,3,\"*\")\n",
    "print()\n",
    "\n",
    "# 关键字参数\n",
    "draw_rect(width=5,height=3,star=\"*\")\n",
    "print()\n",
    "\n",
    "# 位置参数和关键字参数混合使用\n",
    "draw_rect(5,height=3,star=\"*\")\n",
    "\n",
    "# 错误示范\n",
    "# draw_rect(width=5,3,\"*\")"
   ]
  },
  {
   "cell_type": "markdown",
   "id": "bad514d5",
   "metadata": {},
   "source": [
    "#### 2.2 可选参数（默认值参数）"
   ]
  },
  {
   "cell_type": "code",
   "execution_count": 12,
   "id": "f2cb6685",
   "metadata": {},
   "outputs": [
    {
     "name": "stdout",
     "output_type": "stream",
     "text": [
      "*****\n",
      "*****\n",
      "*****\n",
      "*****\n",
      "*****\n",
      "*****\n",
      "\n",
      "#####\n",
      "#####\n",
      "#####\n",
      "#####\n",
      "#####\n",
      "#####\n"
     ]
    }
   ],
   "source": [
    "def draw_react3(width,height,star = '*'):\n",
    "    for i in range(height):\n",
    "        print(star * width)\n",
    "\n",
    "# 不写第三个实参\n",
    "draw_react3(5,6)\n",
    "print()\n",
    "# 写第三个实参\n",
    "draw_react3(5,6,'#')"
   ]
  },
  {
   "cell_type": "markdown",
   "id": "3cd438c6",
   "metadata": {},
   "source": [
    "##### 2.3 变长参数"
   ]
  },
  {
   "cell_type": "code",
   "execution_count": 16,
   "id": "6e9023ea",
   "metadata": {},
   "outputs": [
    {
     "name": "stdout",
     "output_type": "stream",
     "text": [
      "欢迎您！张先生\n",
      "您预定的菜单为：('土豆炖牛腩', '奥尔良烤翅', '家常豆腐')\n",
      "进餐人数是3人\n",
      "您附加的要求为{'口味': '偏清淡', '餐桌位置': '偏僻角落'}\n"
     ]
    }
   ],
   "source": [
    "def order_dishes(customer,*dishes,num_people,**addtional_comments):\n",
    "    print(f\"欢迎您！{customer}\")\n",
    "    print(f\"您预定的菜单为：{dishes}\")\n",
    "    print(f\"进餐人数是{num_people}人\")\n",
    "    print(f\"您附加的要求为{addtional_comments}\")\n",
    "\n",
    "# 模拟订餐\n",
    "order_dishes(\"张先生\",\"土豆炖牛腩\",\"奥尔良烤翅\",\"家常豆腐\",num_people=3,口味=\"偏清淡\",餐桌位置=\"偏僻角落\")\n",
    "\n",
    "# 说明：关键字参数的键必须是变量名，而不是字符串，但是输出后会自动加上引号"
   ]
  },
  {
   "cell_type": "markdown",
   "id": "373a42ad",
   "metadata": {},
   "source": [
    "##### 2.4 解包参数\n"
   ]
  },
  {
   "cell_type": "code",
   "execution_count": 18,
   "id": "d23b6318",
   "metadata": {},
   "outputs": [
    {
     "name": "stdout",
     "output_type": "stream",
     "text": [
      "1 2 3\n",
      "6\n"
     ]
    }
   ],
   "source": [
    "# 利用 * 将列表或元组解包为多个参数\n",
    "def func1(a,b,c):\n",
    "    print(a,b,c)\n",
    "    return a + b + c\n",
    "\n",
    "args = [1,2,3]\n",
    "res = func1(*args)\n",
    "print(res)"
   ]
  },
  {
   "cell_type": "code",
   "execution_count": 19,
   "id": "c22444a5",
   "metadata": {},
   "outputs": [
    {
     "name": "stdout",
     "output_type": "stream",
     "text": [
      "1 2 3\n",
      "6\n"
     ]
    }
   ],
   "source": [
    "# 利用 ** 将字典键值对解包为多个关键字参数\n",
    "def func2(x,y,z):\n",
    "    print(x,y,z)\n",
    "    return x + y + z\n",
    "\n",
    "kargs = {\"x\":1,\"y\":2,\"z\":3}\n",
    "res = func2(**kargs)\n",
    "print(res)"
   ]
  },
  {
   "cell_type": "markdown",
   "id": "a8657abc",
   "metadata": {},
   "source": [
    "##### 2.6 传递列表"
   ]
  },
  {
   "cell_type": "markdown",
   "id": "dc1fb486",
   "metadata": {},
   "source": [
    "a. 一个对照试验\n"
   ]
  },
  {
   "cell_type": "code",
   "execution_count": 32,
   "id": "aaa85760",
   "metadata": {},
   "outputs": [
    {
     "name": "stdout",
     "output_type": "stream",
     "text": [
      "调用增量函数前，count_value的值是100, 标识是140729707804184\n",
      "执行增量前，count的值是100, 标识是140729707804184\n",
      "执行增量后，count的值是110, 标识是140729707804504\n",
      "调用增量函数后，count_value的值是100, 标识是140729707804184\n",
      "\n",
      "调用增量函数前，count_values的值是[100, 200, 300], 标识是2318735827904\n",
      "执行增量前，counts的值是[100, 200, 300], 标识是2318735827904\n",
      "执行增量后，counts的值是[110, 210, 310], 标识是2318735827904\n",
      "调用增量函数后，count_values的值是[110, 210, 310], 标识是2318735827904\n"
     ]
    }
   ],
   "source": [
    "# 定义函数increment_count\n",
    "def increment_count(count:int, increment:int):\n",
    "    \"\"\"使count的值增加increment\"\"\"\n",
    "    print(f\"执行增量前，count的值是{count}, 标识是{id(count)}\")\n",
    "    count += increment\n",
    "    print(f\"执行增量后，count的值是{count}, 标识是{id(count)}\")\n",
    "\n",
    "# 定义函数increment_counts\n",
    "def increment_counts(counts:list, increment:int):\n",
    "    \"\"\"使counts中所有元素的值增加increment\"\"\"\n",
    "    print(f\"执行增量前，counts的值是{counts}, 标识是{id(counts)}\")\n",
    "    for i in range(len(counts)):\n",
    "        counts[i] += increment\n",
    "    print(f\"执行增量后，counts的值是{counts}, 标识是{id(counts)}\")\n",
    "\n",
    "# 对比实验\n",
    "count_value = 100\n",
    "print(f\"调用增量函数前，count_value的值是{count_value}, 标识是{id(count_value)}\")\n",
    "increment_count(count_value, 10) # 把整数100的引用传递给形参count\n",
    "print(f\"调用增量函数后，count_value的值是{count_value}, 标识是{id(count_value)}\")\n",
    "print()\n",
    "\n",
    "count_values = [100, 200, 300]\n",
    "print(f\"调用增量函数前，count_values的值是{count_values}, 标识是{id(count_values)}\")\n",
    "increment_counts(count_values, 10) # 把列表对象[100, 200, 300]的引用传递给形参counts\n",
    "print(f\"调用增量函数后，count_values的值是{count_values}, 标识是{id(count_values)}\")\n"
   ]
  },
  {
   "cell_type": "markdown",
   "id": "a7d39f25",
   "metadata": {},
   "source": [
    "说明：\n",
    "- 整数 100 是不可变对象，函数操作对100没有影响，也不会改变 `count_value` 对100的引用，执行增量后，`count` 引用了一个新对象，其值为110，其标识不同于100的标识\n",
    "- 列表 [100,200,300] 为可变对象，函数操作对其有影响，执行增量前后，`count_values` 和 `counts` 引用的都是这个列表对象"
   ]
  },
  {
   "cell_type": "markdown",
   "id": "dc9da125",
   "metadata": {},
   "source": [
    "b. 随机混排给定列表的元素值"
   ]
  },
  {
   "cell_type": "code",
   "execution_count": 33,
   "id": "171d2697",
   "metadata": {},
   "outputs": [
    {
     "name": "stdout",
     "output_type": "stream",
     "text": [
      "[5, 1, 4, 3, 2]\n"
     ]
    }
   ],
   "source": [
    "import random\n",
    "def shuffle(lst):\n",
    "    for i in range(len(lst)):\n",
    "        j = random.randint(0,len(lst)-1)\n",
    "        lst[i],lst[j] = lst[j],lst[i]\n",
    "\n",
    "# 对shuffle函数进行测试\n",
    "def test_shuffle():\n",
    "    v = [1,2,3,4,5]\n",
    "    shuffle(v)\n",
    "    print(v)\n",
    "\n",
    "test_shuffle()"
   ]
  },
  {
   "cell_type": "markdown",
   "id": "28c500d4",
   "metadata": {},
   "source": [
    "c. 来访者登记簿程序：定义函数 `check_in` 登记来访者的姓名和电话，并把记录保存到一个来访者列表\n"
   ]
  },
  {
   "cell_type": "code",
   "execution_count": 34,
   "id": "d1cbd47c",
   "metadata": {},
   "outputs": [
    {
     "name": "stdout",
     "output_type": "stream",
     "text": [
      "[('沙', '123456'), ('夏', '234567'), ('灿', '345678')]\n"
     ]
    }
   ],
   "source": [
    "def check_in(visitors:list):\n",
    "    \"\"\"记录来访者输入的姓名和联系电话，追加到visitors\"\"\"\n",
    "    name = input(\"请输入姓名：\")\n",
    "    tel = input(\"联系电话：\")\n",
    "    visitors.append((name,tel))\n",
    "\n",
    "visitor_book = []    # 定义列表用来保存即将到来的来访者信息\n",
    "\n",
    "# 假设有 3 名来访者的信息要登记，'_'用作临时循环变量\n",
    "for _ in range(3):\n",
    "    check_in(visitor_book)\n",
    "\n",
    "print(visitor_book)"
   ]
  },
  {
   "cell_type": "markdown",
   "id": "7b6b7245",
   "metadata": {},
   "source": [
    "#### 3. 函数的返回值"
   ]
  },
  {
   "cell_type": "markdown",
   "id": "75b57388",
   "metadata": {},
   "source": [
    "##### 3.1 返回简单值\n",
    "定义函数circle_area，根据半径计算圆的面积"
   ]
  },
  {
   "cell_type": "code",
   "execution_count": 22,
   "id": "94723eba",
   "metadata": {},
   "outputs": [
    {
     "name": "stdout",
     "output_type": "stream",
     "text": [
      "半径为 4 的圆的面积为 50.27\n"
     ]
    }
   ],
   "source": [
    "# 定义函数circle_area，根据半径计算圆的面积\n",
    "import math\n",
    "\n",
    "def circle_area(r):\n",
    "    return math.pi*r**2\n",
    "\n",
    "radius = eval(input(\"请输入圆的半径为：r = \"))\n",
    "area = circle_area(radius)\n",
    "print(f\"半径为 {radius} 的圆的面积为 {area:.2f}\")\n"
   ]
  },
  {
   "cell_type": "markdown",
   "id": "331acdc3",
   "metadata": {},
   "source": [
    "##### 3.2 返回逻辑值\n",
    "定义函数 is_even 检测任意一个大于零的整数是否为整数，返回检测结果，是一个布尔型的逻辑值"
   ]
  },
  {
   "cell_type": "code",
   "execution_count": 24,
   "id": "cc3eb0dd",
   "metadata": {},
   "outputs": [
    {
     "name": "stdout",
     "output_type": "stream",
     "text": [
      "4 是大于 0 的偶数\n"
     ]
    }
   ],
   "source": [
    "# 定义函数 is_even 检测任意一个大于零的整数是否为整数，返回检测结果，是一个布尔型的逻辑值\n",
    "def is_even(n):\n",
    "    if n > 0 and n % 2 == 0:\n",
    "        return True\n",
    "    else:\n",
    "        return False\n",
    "\n",
    "num = int(input(\"请输入一个大于零的偶数：\"))\n",
    "if is_even(num):\n",
    "    print(f\"{num} 是大于 0 的偶数\")\n",
    "else:\n",
    "    print(\"不满足条件：不是大于零的偶数\")"
   ]
  },
  {
   "cell_type": "markdown",
   "id": "dd8932e3",
   "metadata": {},
   "source": [
    "##### 3.3 包含多个 `return` 语句的函数\n",
    "定义函数is_prime判断一个数是否为素数，编写测试代码判断并输出1~99中的素数"
   ]
  },
  {
   "cell_type": "code",
   "execution_count": 28,
   "id": "137abe35",
   "metadata": {},
   "outputs": [
    {
     "name": "stdout",
     "output_type": "stream",
     "text": [
      "1~99 内的素数有 2,3,5,7,11,13,17,19,23,29,31,37,41,43,47,53,59,61,67,71,73,79,83,89,97\n"
     ]
    }
   ],
   "source": [
    "# 定义函数is_prime判断一个数是否为素数，编写测试代码判断并输出1~99中的素数\n",
    "def is_prime(n):\n",
    "    if n < 2:\n",
    "        return False\n",
    "    elif n == 2:\n",
    "        return True\n",
    "    else:\n",
    "        i = 2\n",
    "        while i <= n // 2 + 1:\n",
    "            if n % i == 0:\n",
    "                return False\n",
    "            else:\n",
    "                i += 1\n",
    "        return True\n",
    "\n",
    "prime_lst = []\n",
    "for j in range(1,100):\n",
    "    if is_prime(j):\n",
    "        prime_lst.append(j)\n",
    "\n",
    "print(f\"1~99 内的素数有 {','.join(map(str,prime_lst))}\")\n"
   ]
  },
  {
   "cell_type": "code",
   "execution_count": null,
   "id": "e1b69768",
   "metadata": {},
   "outputs": [],
   "source": []
  },
  {
   "cell_type": "markdown",
   "id": "7872f153",
   "metadata": {},
   "source": [
    "##### 3.4 返回元组（包含多个值）\n",
    "定义一个函数describe，计算一组数的 3 个基本描述性统计量（最大值、最小值和平均值），返回这三个统计量"
   ]
  },
  {
   "cell_type": "code",
   "execution_count": 31,
   "id": "4505760f",
   "metadata": {},
   "outputs": [
    {
     "name": "stdout",
     "output_type": "stream",
     "text": [
      "(1, 2, 3, 4)\n",
      "最大值为 4\n",
      "最小值为 1\n",
      "平均值为 2.5\n"
     ]
    }
   ],
   "source": [
    "# 定义一个函数describe，计算一组数的 3 个基本描述性统计量（最大值、最小值和平均值），返回这三个统计量\n",
    "def describe(*args):\n",
    "    maximum = max(args)\n",
    "    minimum = min(args)\n",
    "    medium = sum(args)/len(args)\n",
    "    return maximum,minimum,medium\n",
    "\n",
    "lst = eval(input(\"请输入一组数据：\"))\n",
    "print(lst)\n",
    "\n",
    "describe_tup = describe(*lst)\n",
    "\n",
    "print(f\"最大值为 {describe_tup[0]}\")\n",
    "print(f\"最小值为 {describe_tup[1]}\")\n",
    "print(f\"平均值为 {describe_tup[2]}\")"
   ]
  },
  {
   "cell_type": "markdown",
   "id": "43583ac0",
   "metadata": {},
   "source": [
    "### 二. 实践作业\n",
    "___"
   ]
  },
  {
   "cell_type": "markdown",
   "id": "899c2834",
   "metadata": {},
   "source": [
    "### 三. 案例指导\n",
    "___"
   ]
  }
 ],
 "metadata": {
  "kernelspec": {
   "display_name": "volcano",
   "language": "python",
   "name": "python3"
  },
  "language_info": {
   "codemirror_mode": {
    "name": "ipython",
    "version": 3
   },
   "file_extension": ".py",
   "mimetype": "text/x-python",
   "name": "python",
   "nbconvert_exporter": "python",
   "pygments_lexer": "ipython3",
   "version": "3.12.7"
  }
 },
 "nbformat": 4,
 "nbformat_minor": 5
}
