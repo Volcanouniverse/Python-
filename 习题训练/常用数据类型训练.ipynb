{
 "cells": [
  {
   "cell_type": "markdown",
   "id": "14d63574",
   "metadata": {},
   "source": [
    "## 一.实践作业"
   ]
  },
  {
   "cell_type": "markdown",
   "id": "cecd374f",
   "metadata": {},
   "source": [
    "#### 1. 编写程序，格式化输出杨辉三角"
   ]
  },
  {
   "cell_type": "code",
   "execution_count": 1,
   "id": "d5b42197",
   "metadata": {},
   "outputs": [
    {
     "name": "stdout",
     "output_type": "stream",
     "text": [
      "1   \n",
      "1   1   \n",
      "1   2   1   \n",
      "1   3   3   1   \n",
      "1   4   6   4   1   \n",
      "1   5   10  10  5   1   \n",
      "1   6   15  20  15  6   1   \n",
      "1   7   21  35  35  21  7   1   \n",
      "1   8   28  56  70  56  28  8   1   \n",
      "1   9   36  84  126 126 84  36  9   1   \n"
     ]
    }
   ],
   "source": [
    "# 输入行数\n",
    "lines = int(input(\"请输入杨辉三角形的行数：\"))\n",
    "\n",
    "all_lines = []    # 用来存放所有行的列表\n",
    "pre_line = [1]    # 用来存放上一行的列表\n",
    "\n",
    "# 遍历每一行，将每一行的列表添加到all_lines中\n",
    "for i in range(1,lines + 1):\n",
    "    line = []    # 用来存放当前行的列表\n",
    "    # 遍历当前行的每一个元素，将元素添加到line中\n",
    "    for j in range(i):\n",
    "        # 如果是第一列或者最后一列，元素值为1\n",
    "        if j == 0 or j == i - 1:\n",
    "            line.append(1)\n",
    "        # 否则，元素值为上一行的前一列元素值和上一行的当前列元素值之和\n",
    "        else:\n",
    "            x = pre_line[j-1] + pre_line[j]\n",
    "            line.append(x)\n",
    "    # 将当前行的列表添加到all_lines中\n",
    "    all_lines.append(line)\n",
    "    pre_line = line\n",
    "\n",
    "# 遍历all_lines中的每一行，将每一行的元素打印出来\n",
    "for lst in all_lines:\n",
    "    # 打印每一行的元素，元素之间用空格隔开，每一行的元素个数为行数\n",
    "    for m in lst:\n",
    "        print(f\"{m:<4}\",end = '')\n",
    "    print()\n"
   ]
  },
  {
   "cell_type": "markdown",
   "id": "23f76605",
   "metadata": {},
   "source": [
    "#### 2. 编程实现鸡兔同笼问题，已知在同一个笼子里总共有h只鸡和兔，鸡和兔的总脚数为f只，其中，h和f为用户输入，求鸡和兔各有多少只？ "
   ]
  },
  {
   "cell_type": "code",
   "execution_count": 2,
   "id": "1f92132c",
   "metadata": {},
   "outputs": [
    {
     "ename": "ValueError",
     "evalue": "invalid literal for int() with base 10: ''",
     "output_type": "error",
     "traceback": [
      "\u001b[31m---------------------------------------------------------------------------\u001b[39m",
      "\u001b[31mValueError\u001b[39m                                Traceback (most recent call last)",
      "\u001b[36mCell\u001b[39m\u001b[36m \u001b[39m\u001b[32mIn[2]\u001b[39m\u001b[32m, line 1\u001b[39m\n\u001b[32m----> \u001b[39m\u001b[32m1\u001b[39m h = \u001b[38;5;28;43mint\u001b[39;49m\u001b[43m(\u001b[49m\u001b[38;5;28;43minput\u001b[39;49m\u001b[43m(\u001b[49m\u001b[33;43m\"\u001b[39;49m\u001b[33;43m请输入鸡和兔的个数为：\u001b[39;49m\u001b[33;43m\"\u001b[39;49m\u001b[43m)\u001b[49m\u001b[43m)\u001b[49m\n\u001b[32m      2\u001b[39m f = \u001b[38;5;28mint\u001b[39m(\u001b[38;5;28minput\u001b[39m(\u001b[33m\"\u001b[39m\u001b[33m请输入鸡和兔的总脚数为(必须为偶数)：\u001b[39m\u001b[33m\"\u001b[39m))\n\u001b[32m      4\u001b[39m \u001b[38;5;28;01mif\u001b[39;00m f % \u001b[32m2\u001b[39m != \u001b[32m0\u001b[39m:\n",
      "\u001b[31mValueError\u001b[39m: invalid literal for int() with base 10: ''"
     ]
    }
   ],
   "source": [
    "h = int(input(\"请输入鸡和兔的个数为：\"))\n",
    "f = int(input(\"请输入鸡和兔的总脚数为(必须为偶数)：\"))\n",
    "\n",
    "if f % 2 != 0:\n",
    "    print(\"总脚数必须为偶数\")\n",
    "else:\n",
    "    for i in range(0,h + 1):\n",
    "        j = h - i\n",
    "        if 2 * i + 4 * j == f:\n",
    "            print(f\"鸡有{i}只，兔子有{j}只\")\n",
    "            break\n",
    "    else:\n",
    "        print(\"您输入的数字不符合实际情况\")\n",
    "        \n",
    "    "
   ]
  },
  {
   "cell_type": "code",
   "execution_count": null,
   "id": "a5237e68",
   "metadata": {},
   "outputs": [],
   "source": [
    "h = int(input(\"请输入鸡和兔的个数为：\"))\n",
    "f = int(input(\"请输入鸡和兔的总脚数为(必须为偶数)：\"))\n",
    "\n",
    "if f % 2 != 0:\n",
    "    print(\"总脚数必须为偶数\")\n",
    "else:\n",
    "    i = (f - 2 * h) // 2\n",
    "    j = h - i\n",
    "    if i >= 0 and j >= 0:\n",
    "        print(f\"鸡有{i}只，兔子有{j}只\")\n",
    "    else:\n",
    "        print(\"您输入的数字不符合实际情况\")"
   ]
  },
  {
   "cell_type": "markdown",
   "id": "5ba4b8be",
   "metadata": {},
   "source": [
    "#### 3. 编写程序，生成一个列表，包含25个60-79之间的随机数，并统计列表中有几个不一样的数及其出现的次数。"
   ]
  },
  {
   "cell_type": "code",
   "execution_count": null,
   "id": "a9385ac5",
   "metadata": {},
   "outputs": [
    {
     "name": "stdout",
     "output_type": "stream",
     "text": [
      "[73, 60, 74, 72, 77, 63, 63, 61, 61, 79, 78, 78, 62, 74, 61, 70, 77, 63, 77, 71, 70, 68, 70, 77, 79]\n",
      "列表中一共有13个不同的数字\n",
      "数字68出现了1次\n",
      "数字70出现了3次\n",
      "数字71出现了1次\n",
      "数字72出现了1次\n",
      "数字73出现了1次\n",
      "数字74出现了2次\n",
      "数字77出现了4次\n",
      "数字78出现了2次\n",
      "数字79出现了2次\n",
      "数字60出现了1次\n",
      "数字61出现了3次\n",
      "数字62出现了1次\n",
      "数字63出现了3次\n"
     ]
    }
   ],
   "source": [
    "# 导入随机数模块\n",
    "import random\n",
    "\n",
    "# 生成25个随机整数，范围在60-79之间\n",
    "lst = [random.randint(60,79) for i in range(25) ]\n",
    "print(lst)\n",
    "\n",
    "# 统计列表中不同数字的个数\n",
    "num = len(set(lst))\n",
    "print(f\"列表中一共有{num}个不同的数字\")\n",
    "\n",
    "# 统计每个数字出现的次数\n",
    "for i in set(lst):\n",
    "    count = 0\n",
    "    for j in lst:\n",
    "        if j == i:\n",
    "            count += 1\n",
    "    print(f\"数字{i}出现了{count}次\")\n"
   ]
  },
  {
   "cell_type": "code",
   "execution_count": null,
   "id": "02f08f83",
   "metadata": {},
   "outputs": [
    {
     "name": "stdout",
     "output_type": "stream",
     "text": [
      "[75, 72, 62, 75, 60, 65, 68, 64, 65, 70, 61, 64, 73, 71, 70, 77, 69, 65, 71, 60, 78, 73, 75, 64, 68]\n",
      "列表中一共有14个不同的数字\n",
      "数字60出现了2次\n",
      "数字61出现了1次\n",
      "数字62出现了1次\n",
      "数字64出现了3次\n",
      "数字65出现了3次\n",
      "数字68出现了2次\n",
      "数字69出现了1次\n",
      "数字70出现了2次\n",
      "数字71出现了2次\n",
      "数字72出现了1次\n",
      "数字73出现了2次\n",
      "数字75出现了3次\n",
      "数字77出现了1次\n",
      "数字78出现了1次\n"
     ]
    }
   ],
   "source": [
    "# 导入random模块\n",
    "import random\n",
    "\n",
    "# 生成一个包含25个随机整数的列表，整数范围为60-79\n",
    "lst = [random.randint(60,79) for j in range(25)]\n",
    "print(lst)\n",
    "\n",
    "# 统计列表中不同数字的个数，并按数字大小排序输出\n",
    "count_dict = {}     # 定义一个空字典，用于存储数字及其出现次数\n",
    "# 遍历列表，统计每个数字出现的次数\n",
    "for i in lst:\n",
    "    count_dict[i] = count_dict.get(i,0) + 1\n",
    "\n",
    "print(f\"列表中一共有{len(count_dict)}个不同的数字\")\n",
    "\n",
    "# 按数字大小排序输出\n",
    "for num in sorted(count_dict,reverse = False):\n",
    "    print(f\"数字{num}出现了{count_dict[num]}次\")"
   ]
  },
  {
   "cell_type": "markdown",
   "id": "c11b764c",
   "metadata": {},
   "source": [
    "#### 4. 埃拉托斯特尼筛法是一种古老的算法，用于确定不超过 n 的所有素数。\n",
    "  其思路是：创建从 2 到 n 的整数列表；把列表的第一个数作为素数公布，然后将该数和它的所有倍数从列表中删除；重复此过程一直持续到列表为空。\\\n",
    "  例如，如果要找到不超过 10 的所有素数，先创建列表，包含 2、3、4、5、6、7、8、9、10；输出 2 为素数，然后删除列表中的 2、4、6、8 和 10 ，列表中剩下 3、 5、 7、 9 ；重复该过程， 输出 3 为素数，并删除 3 和 9 ，剩下 5 和 7；算法继续，输出 5 为素数，并将 5 从列表中删除；最后，输出 7 ，并删除 7；此时，列表中没有数了，算法结束。\\\n",
    "  编写一个程序提示用户输入 n，然后用埃氏筛选法找出不超过 n 的所有素数。"
   ]
  },
  {
   "cell_type": "code",
   "execution_count": null,
   "id": "448a408a",
   "metadata": {},
   "outputs": [
    {
     "name": "stdout",
     "output_type": "stream",
     "text": [
      "不超过10的所有素数为2,3,5,7\n"
     ]
    }
   ],
   "source": [
    "# 输入一个大于2的正整数n\n",
    "n = int(input(\"请输入一个大于2的正整数：\"))\n",
    "\n",
    "# 生成从2到n的所有整数列表\n",
    "lst = [i for i in range(2,n + 1)]\n",
    "# 初始化一个空列表，用于存储素数\n",
    "seq = []\n",
    "\n",
    "# 循环遍历列表，每次取出一个素数，将其添加到seq列表中，然后将其倍数从lst列表中删除\n",
    "while lst:\n",
    "    m = lst[0]\n",
    "    seq.append(m)\n",
    "    # 遍历lst列表中的所有元素，如果元素是m的倍数，则将其从lst列表中删除\n",
    "    for i in lst:\n",
    "        if i % m == 0:\n",
    "            lst.remove(i)\n",
    "\n",
    "# 输出不超过n的所有素数\n",
    "print(f\"不超过{n}的所有素数为{\",\".join(map(str,seq))}\")\n",
    "\n"
   ]
  },
  {
   "cell_type": "markdown",
   "id": "c456b34f",
   "metadata": {},
   "source": [
    "#### 5. 编写程序对一次评选年度优秀学员的投票数据进行统计。要求依次输入每张选票上的一个姓名，用字典保存得票人的姓名和票数，找到并输出得票最多的3人，并按得票数降序输出姓名和票数。\n",
    "投票数据举例：李华，李华，王恒，黄晨，赵元，赵元，王恒，秦月，秦月，李华，李华，赵元，黄晨，王恒，秦月，李华，黄晨，王恒，赵元，赵元，李华，……\\\n",
    "输出结果：\\\n",
    "  李华-6票\\\n",
    "  赵元-5票\\\n",
    "  王恒-4票"
   ]
  },
  {
   "cell_type": "code",
   "execution_count": null,
   "id": "ff4886a8",
   "metadata": {},
   "outputs": [
    {
     "name": "stdout",
     "output_type": "stream",
     "text": [
      "本次得票最多的三位学员是：\n",
      "李华-6票\n",
      "赵元-5票\n",
      "王恒-4票\n"
     ]
    }
   ],
   "source": [
    "# 输入投票数据\n",
    "vote_lst = input(\"请输入本次投票数据（用中文逗号隔开）：\").split('，')\n",
    "\n",
    "# 初始化一个字典，用于存储每个名字的得票数\n",
    "name_votes = {}\n",
    "\n",
    "# 遍历投票数据，统计每个名字的得票数\n",
    "for name in vote_lst:\n",
    "    name_votes[name] = name_votes.get(name,0) + 1\n",
    "\n",
    "# 对字典按照得票数进行排序，得到一个列表\n",
    "sort_name_votes = sorted(name_votes.items(),key = lambda x: x[1],reverse = True)\n",
    "\n",
    "print(\"本次得票最多的三位学员是：\")\n",
    "\n",
    "# 输出前三位学员的名字和得票数\n",
    "for i in range(0,3):\n",
    "    print(f\"{sort_name_votes[i][0]}-{sort_name_votes[i][1]}票\")"
   ]
  },
  {
   "cell_type": "code",
   "execution_count": null,
   "id": "b2c3177c",
   "metadata": {},
   "outputs": [
    {
     "name": "stdout",
     "output_type": "stream",
     "text": [
      "本次评选的前三名同学及其得票情况如下：\n",
      "李华-6票\n",
      "赵元-5票\n",
      "王恒-4票\n"
     ]
    }
   ],
   "source": [
    "# 导入 collections 模块中的 Counter 类\n",
    "from collections import Counter\n",
    "\n",
    "# 提示用户输入投票数据，使用中文逗号分隔每个投票人的名字\n",
    "electors = input(\"请输入本次评选的最终投票数据：\").split('，')\n",
    "\n",
    "# 使用 Counter 对投票数据进行统计\n",
    "count = Counter(electors)\n",
    "\n",
    "print(\"本次评选的前三名同学及其得票情况如下：\")\n",
    "\n",
    "# 使用 most_common 方法获取得票数最多的前3名候选人\n",
    "for elector,c in count.most_common(3):\n",
    "    # 使用 f-string 格式化输出，显示候选人名字和得票数\n",
    "    print(f'{elector}-{c}票')"
   ]
  },
  {
   "cell_type": "markdown",
   "id": "554c4ef3",
   "metadata": {},
   "source": [
    "#### 6. 创建宠物寄养记录数据库，用字典对象保存寄养的宠物信息，包括宠物编号、宠物名称、品种名称、寄养天数、主人称呼、主人嘱咐等。要求支持下面的查询：\n",
    "“有多少只猫”\\\n",
    "“寄养天数大于15的宠物”\\\n",
    "“主人嘱咐中出现‘脾气不好’的宠物”"
   ]
  },
  {
   "cell_type": "code",
   "execution_count": null,
   "id": "b7e6a527",
   "metadata": {},
   "outputs": [
    {
     "name": "stdout",
     "output_type": "stream",
     "text": [
      "1.品种为猫的宠物有的宠物有3只，详细信息如下：\n",
      "    宠物编号:001    宠物名称:卷卷夏    品种名称:猫    寄养天数:20    主人称呼:big夏    主人嘱咐:比较人机\n",
      "    宠物编号:003    宠物名称:烂烂灿    品种名称:猫    寄养天数:35    主人称呼:火山    主人嘱咐:喜欢睡觉\n",
      "    宠物编号:006    宠物名称:卡卡    品种名称:猫    寄养天数:19    主人称呼:张景    主人嘱咐:脾气不好\n",
      "2.寄养天数大于15天的宠物有的宠物有4只，详细信息如下：\n",
      "    宠物编号:001    宠物名称:卷卷夏    品种名称:猫    寄养天数:20    主人称呼:big夏    主人嘱咐:比较人机\n",
      "    宠物编号:003    宠物名称:烂烂灿    品种名称:猫    寄养天数:35    主人称呼:火山    主人嘱咐:喜欢睡觉\n",
      "    宠物编号:006    宠物名称:卡卡    品种名称:猫    寄养天数:19    主人称呼:张景    主人嘱咐:脾气不好\n",
      "    宠物编号:007    宠物名称:圆圆    品种名称:狗    寄养天数:20    主人称呼:凯文    主人嘱咐:梳理毛发\n",
      "3.主人嘱咐脾气不好的宠物有的宠物有2只，详细信息如下：\n",
      "    宠物编号:002    宠物名称:困困沙    品种名称:狗    寄养天数:15    主人称呼:小沙    主人嘱咐:脾气不好\n",
      "    宠物编号:006    宠物名称:卡卡    品种名称:猫    寄养天数:19    主人称呼:张景    主人嘱咐:脾气不好\n"
     ]
    }
   ],
   "source": [
    "pet_database = {\n",
    "    \"001\":{\"宠物编号\":\"001\",\"宠物名称\":\"卷卷夏\",\"品种名称\":\"猫\",\"寄养天数\":20,\"主人称呼\":\"big夏\",\"主人嘱咐\":\"比较人机\"},\n",
    "    \"002\":{\"宠物编号\":\"002\",\"宠物名称\":\"困困沙\",\"品种名称\":\"狗\",\"寄养天数\":15,\"主人称呼\":\"小沙\",\"主人嘱咐\":\"脾气不好\"},\n",
    "    \"003\":{\"宠物编号\":\"003\",\"宠物名称\":\"烂烂灿\",\"品种名称\":\"猫\",\"寄养天数\":35,\"主人称呼\":\"火山\",\"主人嘱咐\":\"喜欢睡觉\"},\n",
    "    '004':{'宠物编号':'004','宠物名称':'小白','品种名称':'乌龟','寄养天数':10,'主人称呼':'秦月','主人嘱咐':'定期换水'},\n",
    "    '005':{'宠物编号':'005','宠物名称':'咕咕','品种名称':'鸟','寄养天数':5,'主人称呼':'黄晨','主人嘱咐':'清理笼子'},\n",
    "    '006':{'宠物编号':'006','宠物名称':'卡卡','品种名称':'猫','寄养天数':19,'主人称呼':'张景','主人嘱咐':'脾气不好'},\n",
    "    '007':{'宠物编号':'007','宠物名称':'圆圆','品种名称':'狗','寄养天数':20,'主人称呼':'凯文','主人嘱咐':'梳理毛发'},\n",
    "}\n",
    "\n",
    "def pets_details(condition,title):\n",
    "    pets = [pet for pet in pet_database.values() if condition(pet)]\n",
    "    print(f\"{title}的宠物有{len(pets)}只，详细信息如下：\")\n",
    "    for detail in pets:\n",
    "        for key,value in detail.items():\n",
    "            print(f\"    {key}:{value}\",end = '')\n",
    "        print()\n",
    "\n",
    "pets_details(lambda x:x[\"品种名称\"] == \"猫\",\"1.品种为猫的宠物有\")\n",
    "pets_details(lambda x:x[\"寄养天数\"] > 15,\"2.寄养天数大于15天的宠物有\")\n",
    "pets_details(lambda x:x[\"主人嘱咐\"] == \"脾气不好\",\"3.主人嘱咐脾气不好的宠物有\")\n"
   ]
  },
  {
   "cell_type": "markdown",
   "id": "e8cb0b81",
   "metadata": {},
   "source": [
    "#### 7. 参考课堂介绍的推荐系统案例，尝试把程序改成歌曲推荐程序：有一组客户及其点歌的数据，为打算点歌的客户推荐歌曲。\n",
    "客户1 : {'断桥残雪', '领悟', '暗香', '隐形的翅膀', '再见', '白桦林', '流年', '一眼万年', '那些花儿', '雨一直下', '小城大事', '一剪梅'}\\\n",
    "客户2 : {'暗香', '水手', '朋友', '流年', '再回首', '老鼠爱大米', '曾经的你', '一剪梅', '你的样子'}\\\n",
    "客户3 : {'再回首', '黄昏'}\\\n",
    "客户4 : {'梦醒时分', '隐形的翅膀', '朋友', '棉花糖', '难念的经', '小城大事', '一剪梅'}\\\n",
    "客户5 : {'领悟', '父亲', '流年', '飘雪', '雨一直下', '童年', '遇见', '黄昏'}\\\n",
    "客户6 : {'隐形的翅膀', '父亲', '大海', '一眼万年', '那些花儿', '飘雪', '同桌的你', '棉花糖', '曾经的你', '一剪梅', '慢慢'}\\\n",
    "客户7 : {'遇见'}\\\n",
    "客户8 : {'父亲', '飘雪', '黄昏', '曲终人散', '老鼠爱大米', '一剪梅'}\\\n",
    "客户9 : {'领悟', '大海', '白桦林', '一剪梅', '同桌的你', '棉花糖', '难念的经', '曲终人散', '再回首', '黄昏', '你的样子'}\\\n",
    "客户10 : {'再见', '水手', '朋友', '流年', '飘雪', '同桌的你', '雨一直下', '我是女生', '曲终人散', '再回首', '一剪梅', '你的样子'}\\\n",
    "\n",
    "下面是一次执行的效果：\\\n",
    "输入几首你喜欢的歌曲名称（用空格隔开）：再见 遇见 童年\\\n",
    "与您爱好最接近的客户还点过这些歌曲：领悟,父亲,流年,飘雪,雨一直下,黄昏"
   ]
  },
  {
   "cell_type": "code",
   "execution_count": null,
   "id": "f81daea1",
   "metadata": {},
   "outputs": [
    {
     "name": "stdout",
     "output_type": "stream",
     "text": [
      "与您爱好最接近的客户还点过这些歌曲:黄昏,飘雪,领悟,父亲,流年,雨一直下\n"
     ]
    }
   ],
   "source": [
    "users_songs = {\n",
    "   '客户1': {'断桥残雪', '领悟', '暗香', '隐形的翅膀', '再见', '白桦林', '流年', '一眼万年', '那些花儿', '雨一直下', '小城大事', '一剪梅'},\n",
    "   '客户2': {'暗香', '水手', '朋友', '流年', '再回首', '老鼠爱大米', '曾经的你', '一剪梅', '你的样子'}, \n",
    "   '客户3': {'再回首', '黄昏'}, \n",
    "   '客户4': {'梦醒时分', '隐形的翅膀', '朋友', '棉花糖', '难念的经', '小城大事', '一剪梅'},\n",
    "   '客户5': {'领悟', '父亲', '流年', '飘雪', '雨一直下', '童年', '遇见', '黄昏'},\n",
    "   '客户6': {'隐形的翅膀', '父亲', '大海', '一眼万年', '那些花儿', '飘雪', '同桌的你', '棉花糖', '曾经的你', '一剪梅', '慢慢'},\n",
    "   '客户7': {'遇见'},\n",
    "   '客户8': {'父亲', '飘雪', '黄昏', '曲终人散', '老鼠爱大米', '一剪梅'},\n",
    "   '客户9': {'领悟', '大海', '白桦林', '一剪梅', '同桌的你', '棉花糖', '难念的经', '曲终人散', '再回首', '黄昏', '你的样子'},\n",
    "   '客户10': {'再见', '水手', '朋友', '流年', '飘雪', '同桌的你', '雨一直下', '我是女生', '曲终人散', '再回首', '一剪梅', '你的样子'}\n",
    "}\n",
    "\n",
    "def recommend_songs(user_set,dic):\n",
    "    simlar = set()\n",
    "    for songs in dic.values():\n",
    "        if len(songs & user_set) > len(simlar):\n",
    "            simlar = songs & user_set\n",
    "            recommend = songs - simlar\n",
    "    print(f\"与您爱好最接近的客户还点过这些歌曲:{\",\".join(map(str,recommend))}\")\n",
    "\n",
    "upload_user = input(\"请输入几首你喜欢的歌曲名称（用空格隔开）：\").split(\" \")\n",
    "\n",
    "recommend_songs(set(upload_user),users_songs)"
   ]
  },
  {
   "cell_type": "code",
   "execution_count": null,
   "id": "405aaa26",
   "metadata": {},
   "outputs": [
    {
     "name": "stdout",
     "output_type": "stream",
     "text": [
      "与您爱好最接近的客户还点过这些歌曲: 黄昏,飘雪,领悟,父亲,流年,雨一直下\n"
     ]
    }
   ],
   "source": [
    "# 利用字典来储存这组客户及其点歌的数据\n",
    "users_songs = {\n",
    "    '客户1':{'断桥残雪', '领悟', '暗香', '隐形的翅膀', '再见', '白桦林', '流年', '一眼万年', '那些花儿', '雨一直下', '小城大事', '一剪梅'},\n",
    "    '客户2':{'暗香', '水手', '朋友', '流年', '再回首', '老鼠爱大米', '曾经的你', '一剪梅', '你的样子'},\n",
    "    '客户3':{'再回首', '黄昏'},\n",
    "    '客户4':{'梦醒时分', '隐形的翅膀', '朋友', '棉花糖', '难念的经', '小城大事', '一剪梅'},\n",
    "    '客户5':{'领悟', '父亲', '流年', '飘雪', '雨一直下', '童年', '遇见', '黄昏'},\n",
    "    '客户6':{'隐形的翅膀', '父亲', '大海', '一眼万年', '那些花儿', '飘雪', '同桌的你', '棉花糖', '曾经的你', '一剪梅', '慢慢'},\n",
    "    '客户7':{'遇见'},\n",
    "    '客户8':{'父亲', '飘雪', '黄昏', '曲终人散', '老鼠爱大米', '一剪梅'},\n",
    "    '客户9':{'领悟', '大海', '白桦林', '一剪梅', '同桌的你', '棉花糖', '难念的经', '曲终人散', '再回首', '黄昏', '你的样子'},\n",
    "    '客户10':{'再见', '水手', '朋友', '流年', '飘雪', '同桌的你', '雨一直下', '我是女生', '曲终人散', '再回首', '一剪梅', '你的样子'}\n",
    "}\n",
    "\n",
    "# 请准备点歌的歌手输入喜欢的歌曲名称\n",
    "input_songs = input(\"请输入你喜欢的歌曲名称(用空格隔开): \")\n",
    "songs_set = set(input_songs.split( ))      # 将输入的歌曲名称用集合表示   \n",
    "\n",
    "largest_same = set()   # 初始化集合以存储和用户重合度最高的歌曲集合\n",
    "others = set()   # 初始化集合以存储与其重合度较高的客户的其他喜爱歌曲\n",
    "\n",
    "# 遍历所有客户的点歌数据，找到与用户偏好最接近的客户\n",
    "for songs_given in users_songs.values( ):\n",
    "    same = songs_given & songs_set   # 找出当前客户与用户都喜欢的歌曲\n",
    "    if len(same) > len(largest_same):  # 如果当前客户的重合歌曲数量更多\n",
    "        others = songs_given - same    # 更新其他歌曲集合\n",
    "        largest_same = same   # 更新重合歌曲集合\n",
    "\n",
    "# 输出结果\n",
    "print(f'与您爱好最接近的客户还点过这些歌曲: {\",\".join(others)}')"
   ]
  },
  {
   "cell_type": "markdown",
   "id": "b07a179c",
   "metadata": {},
   "source": [
    "## 二.课件例题 "
   ]
  },
  {
   "cell_type": "markdown",
   "id": "0ca47a13",
   "metadata": {},
   "source": [
    "#### 案例1：学生成绩处理和统计\n",
    "完成考试成绩分段统计任务\n",
    "- 定义列表来保存一组统计量，同时用列表来保存各分段分割点的成绩\n",
    "- 灵活应对：分数段数量比较多，那么统计量的数量会增加，统计部分的分支数量也会增加"
   ]
  },
  {
   "cell_type": "code",
   "execution_count": 3,
   "id": "ac7b82f3",
   "metadata": {},
   "outputs": [
    {
     "name": "stdout",
     "output_type": "stream",
     "text": [
      "各分数段人数如下：\n",
      ">=90:5\n",
      "80~89:9\n",
      "70~79:4\n",
      "60~69:2\n",
      "<=59:0\n"
     ]
    }
   ],
   "source": [
    "scores = [91, 80, 76, 78, 64,\n",
    "          88, 75, 69, 87, 83,\n",
    "          90, 95, 86, 85, 87,\n",
    "          93, 92, 82, 88, 77]\n",
    "\n",
    "count = [0,0,0,0,0]\n",
    "points = [90,80,70,60]\n",
    "\n",
    "for score in scores:\n",
    "    for i in range(len(points)):\n",
    "        if score >= points[i]:\n",
    "            count[i] += 1\n",
    "            break\n",
    "    else:\n",
    "        count[i + 1] += 1\n",
    "\n",
    "print(\"各分数段人数如下：\")\n",
    "print(f\">={points[0]}:{count[0]}\")\n",
    "\n",
    "for i in range(1,len(points)):\n",
    "    print(f\"{points[i]}~{points[i]+9}:{count[i]}\")\n",
    "\n",
    "print(f\"<={points[-1]-1}:{count[-1]}\")\n",
    "\n",
    "\n"
   ]
  },
  {
   "cell_type": "code",
   "execution_count": 5,
   "id": "2b4b20e9",
   "metadata": {},
   "outputs": [
    {
     "name": "stdout",
     "output_type": "stream",
     "text": [
      "各分数段人数如下：\n",
      ">=90    5 \n",
      "80~89   9 \n",
      "70~79   4 \n",
      "60~69   2 \n",
      "<=59    0 \n"
     ]
    }
   ],
   "source": [
    "scores = [91, 80, 76, 78, 64,\n",
    "          88, 75, 69, 87, 83,\n",
    "          90, 95, 86, 85, 87,\n",
    "          93, 92, 82, 88, 77]\n",
    "\n",
    "score_dic = {\n",
    "             \">=90\":0,\n",
    "             \"80~89\":0,\n",
    "             \"70~79\":0,\n",
    "             \"60~69\":0,\n",
    "             \"<=59\":0\n",
    "            }\n",
    "\n",
    "for score in scores:\n",
    "    if score >= 90:\n",
    "        score_dic[\">=90\"] += 1\n",
    "    elif score >= 80:\n",
    "        score_dic[\"80~89\"] += 1\n",
    "    elif score >= 70:\n",
    "        score_dic[\"70~79\"] += 1\n",
    "    elif score >= 60:\n",
    "        score_dic[\"60~69\"] += 1\n",
    "    else:\n",
    "        score_dic[\"<=59\"] += 1\n",
    "\n",
    "print(\"各分数段人数如下：\")\n",
    "for key,value in score_dic.items():\n",
    "    print(f\"{key:<6} {value:^3}\")\n",
    "\n"
   ]
  },
  {
   "cell_type": "markdown",
   "id": "535b4562",
   "metadata": {},
   "source": [
    "#### 案例2 ：用嵌套的列表来保存学生成绩\n",
    "每位学生的3门课程成绩保存在一个列表中，然后把5个结构相同的学生课程成绩\n",
    "列表作为元素保存在一个大列表中\n",
    "- 按课程显示学生的成绩"
   ]
  },
  {
   "cell_type": "code",
   "execution_count": 7,
   "id": "50f5daaa",
   "metadata": {},
   "outputs": [
    {
     "name": "stdout",
     "output_type": "stream",
     "text": [
      "按课程显示学生的成绩\n",
      "\n",
      "Python课程的成绩为：\n",
      "85\n",
      "93\n",
      "88\n",
      "82\n",
      "91\n",
      "\n",
      "数据分析课程的成绩为：\n",
      "87\n",
      "91\n",
      "90\n",
      "78\n",
      "88\n",
      "\n",
      "机器学习课程的成绩为：\n",
      "80\n",
      "88\n",
      "87\n",
      "80\n",
      "85\n",
      "\n"
     ]
    }
   ],
   "source": [
    "# 保存3门课的名称\n",
    "course_names = ['Python', '数据分析', '机器学习']\n",
    "# 保存5位学生3门课的成绩\n",
    "score_sheet = [\n",
    "                [85, 87, 80],\n",
    "                [93, 91, 88],\n",
    "                [88, 90, 87],\n",
    "                [82, 78, 80],\n",
    "                [91, 88, 85]\n",
    "            ]\n",
    "\n",
    "print(\"按课程显示学生的成绩\\n\")\n",
    "for i in range(len(course_names)):\n",
    "    print(f\"{course_names[i]}课程的成绩为：\")\n",
    "    for score_lst in score_sheet:\n",
    "        print(score_lst[i])\n",
    "    print()\n"
   ]
  },
  {
   "cell_type": "markdown",
   "id": "8f89aa7a",
   "metadata": {},
   "source": [
    "#### 案例3：迷宫游戏\n"
   ]
  },
  {
   "cell_type": "code",
   "execution_count": 10,
   "id": "37c8cdce",
   "metadata": {},
   "outputs": [
    {
     "name": "stdout",
     "output_type": "stream",
     "text": [
      "########\n",
      "@ #    #\n",
      "#   ####\n",
      "# #  #  \n",
      "# # #  #\n",
      "# # # ##\n",
      "#      #\n",
      "########\n"
     ]
    }
   ],
   "source": [
    "MAXROWS = 8 # 符号常量，迷宫行数\n",
    "MAXCOLS = 8 # 符号常量，迷宫列数\n",
    "# 用二维列表保存迷宫数据\n",
    "maze = [\n",
    "         [1,1,1,1,1,1,1,1],\n",
    "         [2,0,1,0,0,0,0,1],\n",
    "         [1,0,0,0,1,1,1,1],\n",
    "         [1,0,1,0,0,1,0,0],\n",
    "         [1,0,1,0,1,0,0,1],\n",
    "         [1,0,1,0,1,0,1,1],\n",
    "         [1,0,0,0,0,0,0,1],\n",
    "         [1,1,1,1,1,1,1,1]\n",
    "    ]\n",
    "\n",
    "# 遍历列表元素（迷宫数据），并绘制（显示）迷宫\n",
    "for line in maze:\n",
    "    for cell in line:\n",
    "        if cell == 1:\n",
    "            print(\"#\",end = '')\n",
    "        elif cell == 0:\n",
    "            print(\" \",end = '')\n",
    "        else:\n",
    "            print(\"@\",end = '')\n",
    "    print()\n"
   ]
  },
  {
   "cell_type": "markdown",
   "id": "6ae4dd25",
   "metadata": {},
   "source": [
    "### 案例4：动态构建二维列表\n",
    "用嵌套列表来构建保存在嵌套列表中二维成绩表的过程\n",
    "- 定义一个空列表\n",
    "- 在每次输入一个学生的3门课程成绩前，新建一个空列表以保存该成绩\n",
    "- 每输入一个成绩，就添加到新列表之中\n",
    "- 3门成绩输入后，把此列表加入到大列表之中\n",
    "- 重复步骤\n"
   ]
  },
  {
   "cell_type": "code",
   "execution_count": null,
   "id": "1e8f9828",
   "metadata": {},
   "outputs": [],
   "source": []
  }
 ],
 "metadata": {
  "kernelspec": {
   "display_name": "volcano",
   "language": "python",
   "name": "python3"
  },
  "language_info": {
   "codemirror_mode": {
    "name": "ipython",
    "version": 3
   },
   "file_extension": ".py",
   "mimetype": "text/x-python",
   "name": "python",
   "nbconvert_exporter": "python",
   "pygments_lexer": "ipython3",
   "version": "3.12.7"
  }
 },
 "nbformat": 4,
 "nbformat_minor": 5
}
