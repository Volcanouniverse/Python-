{
 "cells": [
  {
   "cell_type": "markdown",
   "id": "cecd374f",
   "metadata": {},
   "source": [
    "1.编写程序，格式化输出杨辉三角"
   ]
  },
  {
   "cell_type": "code",
   "execution_count": null,
   "id": "d5b42197",
   "metadata": {},
   "outputs": [
    {
     "name": "stdout",
     "output_type": "stream",
     "text": [
      "1   \n",
      "1   1   \n",
      "1   2   1   \n",
      "1   3   3   1   \n",
      "1   4   6   4   1   \n",
      "1   5   10  10  5   1   \n",
      "1   6   15  20  15  6   1   \n",
      "1   7   21  35  35  21  7   1   \n",
      "1   8   28  56  70  56  28  8   1   \n",
      "1   9   36  84  126 126 84  36  9   1   \n"
     ]
    }
   ],
   "source": [
    "lines = int(input(\"请输入杨辉三角形的行数：\"))\n",
    "all_lines = []\n",
    "pre_line = [1]\n",
    "for i in range(1,lines + 1):\n",
    "    line = []\n",
    "    for j in range(i):\n",
    "        if j == 0 or j == i - 1:\n",
    "            line.append(1)\n",
    "        else:\n",
    "            x = pre_line[j-1] + pre_line[j]\n",
    "            line.append(x)\n",
    "    all_lines.append(line)\n",
    "    pre_line = line\n",
    "\n",
    "for lst in all_lines:\n",
    "    for m in lst:\n",
    "        print(f\"{m:<4}\",end = '')\n",
    "    print()\n"
   ]
  },
  {
   "cell_type": "markdown",
   "id": "23f76605",
   "metadata": {},
   "source": [
    "2.编程实现鸡兔同笼问题，已知在同一个笼子里总共有h只鸡和兔，鸡和兔的总脚数为f只，其中，h和f为用户输入，求鸡和兔各有多少只？"
   ]
  },
  {
   "cell_type": "code",
   "execution_count": null,
   "id": "1f92132c",
   "metadata": {},
   "outputs": [
    {
     "name": "stdout",
     "output_type": "stream",
     "text": [
      "鸡有-2只，兔子有12只\n"
     ]
    }
   ],
   "source": [
    "h = int(input(\"请输入鸡和兔的个数为：\"))\n",
    "f = int(input(\"请输入鸡和兔的总脚数为(必须为偶数)：\"))\n",
    "\n",
    "if f % 2 != 0:\n",
    "    print(\"总脚数必须为偶数\")\n",
    "else:\n",
    "    for i in range(0,h + 1):\n",
    "        for j in \n",
    "    "
   ]
  }
 ],
 "metadata": {
  "kernelspec": {
   "display_name": "volcano",
   "language": "python",
   "name": "python3"
  },
  "language_info": {
   "codemirror_mode": {
    "name": "ipython",
    "version": 3
   },
   "file_extension": ".py",
   "mimetype": "text/x-python",
   "name": "python",
   "nbconvert_exporter": "python",
   "pygments_lexer": "ipython3",
   "version": "3.12.7"
  }
 },
 "nbformat": 4,
 "nbformat_minor": 5
}
