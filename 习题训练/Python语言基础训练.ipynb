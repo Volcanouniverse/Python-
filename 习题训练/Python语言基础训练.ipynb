{
 "cells": [
  {
   "cell_type": "markdown",
   "id": "cb1b92de",
   "metadata": {},
   "source": [
    "### 一.基础训练\n",
    "___"
   ]
  },
  {
   "cell_type": "markdown",
   "id": "e619068e",
   "metadata": {},
   "source": [
    "### 二.实践作业\n",
    "____"
   ]
  },
  {
   "cell_type": "markdown",
   "id": "b6e6ea99",
   "metadata": {},
   "source": [
    "#### 1.输入球体的半径，计算球体的表面积和体积。\n",
    "提示：球体的表面积$S=4 \\pi r^2$，体积$V=4/3 \\pi r^3$。\n",
    "\n",
    "注意：输出结果保留两位小数。"
   ]
  },
  {
   "cell_type": "code",
   "execution_count": null,
   "id": "f8a81725",
   "metadata": {},
   "outputs": [],
   "source": []
  },
  {
   "cell_type": "markdown",
   "id": "e6801686",
   "metadata": {},
   "source": [
    "#### 2. 计算一元二次方程$ax^2+bx+c=0$的实根。\n",
    "注意：只考虑实根的情况，即判别式$b^2-4ac>=0$"
   ]
  },
  {
   "cell_type": "code",
   "execution_count": null,
   "id": "88167b0b",
   "metadata": {},
   "outputs": [],
   "source": []
  },
  {
   "cell_type": "markdown",
   "id": "72aa4e94",
   "metadata": {},
   "source": [
    "#### 3. 根据本金b，年利率r和年数n，计算最终收益v，$v=b(1+r)^n$。"
   ]
  },
  {
   "cell_type": "code",
   "execution_count": null,
   "id": "aa647b74",
   "metadata": {},
   "outputs": [],
   "source": []
  },
  {
   "cell_type": "markdown",
   "id": "243c1e9d",
   "metadata": {},
   "source": [
    "#### 4. 输入一个4位的正整数，把它的个位、十位、百位和千位上的数字提取出来，并逆序输出。\n",
    "注意：不要用字符串对象充当整数。"
   ]
  },
  {
   "cell_type": "code",
   "execution_count": null,
   "id": "4e8e72ce",
   "metadata": {},
   "outputs": [],
   "source": []
  },
  {
   "cell_type": "markdown",
   "id": "1520433f",
   "metadata": {},
   "source": [
    "### 三.实践指导\n",
    "____"
   ]
  },
  {
   "cell_type": "markdown",
   "id": "e339c972",
   "metadata": {},
   "source": [
    "#### 应用案例：投篮模拟程序\n"
   ]
  }
 ],
 "metadata": {
  "kernelspec": {
   "display_name": "volcano",
   "language": "python",
   "name": "python3"
  },
  "language_info": {
   "name": "python",
   "version": "3.12.7"
  }
 },
 "nbformat": 4,
 "nbformat_minor": 5
}
