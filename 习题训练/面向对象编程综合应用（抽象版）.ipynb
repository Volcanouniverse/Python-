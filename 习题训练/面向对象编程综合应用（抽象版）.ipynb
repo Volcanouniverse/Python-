{
 "cells": [
  {
   "cell_type": "markdown",
   "id": "a6b46500",
   "metadata": {},
   "source": [
    "面向对象程序设计是比较抽象和复杂的一部分，建议还是结合实例进行立即学习，但是未包含继承和多态的部分。"
   ]
  },
  {
   "cell_type": "markdown",
   "id": "3c732853",
   "metadata": {},
   "source": [
    "1.定义一个关于海绵宝宝的类"
   ]
  },
  {
   "cell_type": "code",
   "execution_count": 44,
   "id": "d472a8af",
   "metadata": {},
   "outputs": [],
   "source": [
    "class SpongeBob:\n",
    "    # 类属性：所有角色共享的属性\n",
    "    character_num = 0\n",
    "    location = \"比奇堡\"\n",
    "    director = \"史蒂芬·海伦伯格\"\n",
    "\n",
    "    # 初始化方法：创建角色对象时自动调用\n",
    "    def __init__(self,name,species,occupation,catchphrase,hobby):\n",
    "        # 实例属性：每个角色对象独有的属性\n",
    "        self.name = name     # 角色名称\n",
    "        self.species = species   # 角色种类\n",
    "        self.occupation = occupation  # 角色职业\n",
    "        self.catchphrase = catchphrase  # 角色台词\n",
    "        self.hobby = hobby\n",
    "        # 修改类属性\n",
    "        SpongeBob.character_num += 1   # 每创建一个角色，总数 + 1\n",
    "    \n",
    "    # 实例方法：操作但各角色\n",
    "    def say_catchphrase(self):\n",
    "        \"\"\"说出角色的标志性台词\"\"\"\n",
    "        print(f\"{self.name}:{self.catchphrase}\")\n",
    "    \n",
    "    def change_occupation(self,new_occupation):\n",
    "        \"\"\"更改角色的职业\"\"\"\n",
    "        self.occupation = new_occupation\n",
    "        print(f\"{self.name}现在是一名{self.occupation}\")\n",
    "    \n",
    "    # 类方法：操作类属性\n",
    "    @classmethod\n",
    "    def add_character(cls,name,species,occupation,catchphrase,hobby):\n",
    "        \"\"\"创建新角色并返回实例\"\"\"\n",
    "        new_character = cls(name,species,occupation,catchphrase,hobby)\n",
    "        print(f\"新角色“{name}”加入！\")\n",
    "        return new_character\n",
    "\n",
    "    # 静态方法：不操作任何实例或类属性\n",
    "    @staticmethod\n",
    "\n",
    "    def bikini_map(spot):\n",
    "        \"\"\"查询比奇堡的地点位置\"\"\"\n",
    "        map = {\n",
    "            \"蟹堡王\": \"比奇堡市中心\",\n",
    "            \"珊迪的树屋\": \"比奇堡东边森林\",\n",
    "            \"章鱼哥的家\": \"海绵宝宝家隔壁\",\n",
    "            \"石头滩\": \"派大星最喜欢的放松地点\"\n",
    "        }\n",
    "        if spot in map:\n",
    "            return f\"{spot}位于{map[spot]}\"\n",
    "        else:\n",
    "            return f\"抱歉，{spot}不在比奇堡地图上！\""
   ]
  },
  {
   "cell_type": "markdown",
   "id": "5707fee4",
   "metadata": {},
   "source": [
    "2.实例对象的创建、实例属性的访问和修改"
   ]
  },
  {
   "cell_type": "code",
   "execution_count": 45,
   "id": "ade0225e",
   "metadata": {},
   "outputs": [
    {
     "name": "stdout",
     "output_type": "stream",
     "text": [
      "海绵宝宝\n",
      "派大星是无业游民\n",
      "海绵宝宝的新爱好是制作蟹黄堡\n"
     ]
    }
   ],
   "source": [
    "# 创建实例对象\n",
    "spongebob = SpongeBob(\"海绵宝宝\",\"海绵\",\"蟹堡王厨师\",\"我准备好了!\",\"抓水母\")\n",
    "patrick = SpongeBob(\"派大星\",\"海星\",\"无业游民\",\"海绵宝宝，我们去抓水母吧！\",\"抓水母\")\n",
    "\n",
    "# 访问实例属性\n",
    "print(spongebob.name)\n",
    "print(f\"派大星是{patrick.occupation}\")\n",
    "\n",
    "# 修改实例属性\n",
    "spongebob.hobby = \"制作蟹黄堡\"\n",
    "print(f\"海绵宝宝的新爱好是{spongebob.hobby}\")"
   ]
  },
  {
   "cell_type": "markdown",
   "id": "24c09ba5",
   "metadata": {},
   "source": [
    "3.类属性的访问、修改"
   ]
  },
  {
   "cell_type": "code",
   "execution_count": 46,
   "id": "b1b00d1f",
   "metadata": {},
   "outputs": [
    {
     "name": "stdout",
     "output_type": "stream",
     "text": [
      "海绵宝宝的导演是史蒂芬·海伦伯格\n",
      "凤梨屋\n"
     ]
    }
   ],
   "source": [
    "# 类属性的访问\n",
    "print(f\"海绵宝宝的导演是{SpongeBob.director}\")\n",
    "\n",
    "# 修改类属性的值\n",
    "SpongeBob.location = \"凤梨屋\"\n",
    "print(SpongeBob.location)"
   ]
  },
  {
   "cell_type": "markdown",
   "id": "9e664ad1",
   "metadata": {},
   "source": [
    "4.调用实例方法"
   ]
  },
  {
   "cell_type": "code",
   "execution_count": 47,
   "id": "29bc9b9d",
   "metadata": {},
   "outputs": [
    {
     "name": "stdout",
     "output_type": "stream",
     "text": [
      "海绵宝宝:我准备好了!\n",
      "派大星现在是一名海底救生员\n"
     ]
    }
   ],
   "source": [
    "# 调用实例方法\n",
    "spongebob.say_catchphrase()\n",
    "patrick.change_occupation(\"海底救生员\")"
   ]
  },
  {
   "cell_type": "markdown",
   "id": "6b51e789",
   "metadata": {},
   "source": [
    "5.调用类方法\n"
   ]
  },
  {
   "cell_type": "code",
   "execution_count": 48,
   "id": "8eceb0eb",
   "metadata": {},
   "outputs": [
    {
     "name": "stdout",
     "output_type": "stream",
     "text": [
      "新角色“章鱼哥”加入！\n",
      "章鱼哥:哦，这真是太可怕了！\n"
     ]
    }
   ],
   "source": [
    "squidward = SpongeBob.add_character(\"章鱼哥\",\"章鱼\",\"蟹堡王收银员\",\"哦，这真是太可怕了！\",\"竖笛\")\n",
    "squidward.say_catchphrase()"
   ]
  },
  {
   "cell_type": "markdown",
   "id": "a52cf3fe",
   "metadata": {},
   "source": [
    "4.调用静态方法"
   ]
  },
  {
   "cell_type": "code",
   "execution_count": 49,
   "id": "65949a8f",
   "metadata": {},
   "outputs": [
    {
     "data": {
      "text/plain": [
       "'蟹堡王位于比奇堡市中心'"
      ]
     },
     "execution_count": 49,
     "metadata": {},
     "output_type": "execute_result"
    }
   ],
   "source": [
    "SpongeBob.bikini_map(\"蟹堡王\")"
   ]
  }
 ],
 "metadata": {
  "kernelspec": {
   "display_name": "volcano",
   "language": "python",
   "name": "python3"
  },
  "language_info": {
   "codemirror_mode": {
    "name": "ipython",
    "version": 3
   },
   "file_extension": ".py",
   "mimetype": "text/x-python",
   "name": "python",
   "nbconvert_exporter": "python",
   "pygments_lexer": "ipython3",
   "version": "3.12.7"
  }
 },
 "nbformat": 4,
 "nbformat_minor": 5
}
