{
 "cells": [
  {
   "cell_type": "markdown",
   "id": "5cce235a",
   "metadata": {},
   "source": [
    "### 一. 基础知识练习\n",
    "___"
   ]
  },
  {
   "cell_type": "markdown",
   "id": "538fb35f",
   "metadata": {},
   "source": [
    "#### 1. 函数的定义和调用"
   ]
  },
  {
   "cell_type": "code",
   "execution_count": 3,
   "id": "b84c9cfe",
   "metadata": {},
   "outputs": [
    {
     "name": "stdout",
     "output_type": "stream",
     "text": [
      "**********\n",
      "**********\n",
      "**********\n",
      "**********\n",
      "**********\n"
     ]
    }
   ],
   "source": [
    "# 定义一个名称为 draw_rect 的函数，功能是绘制指定大小（高度和宽度）的星号矩形，高度和宽度是绘制矩形的参数\n",
    "def draw_react(height,width):\n",
    "    for i in range(height):\n",
    "        print(\"*\" * width)\n",
    "\n",
    "# 调用 draw_rect 函数，绘制高度为 5，宽度为 10 的星号矩形\n",
    "draw_react(5,10) "
   ]
  },
  {
   "cell_type": "markdown",
   "id": "4e163223",
   "metadata": {},
   "source": [
    "#### 2. 参数的传递"
   ]
  },
  {
   "cell_type": "markdown",
   "id": "c285a709",
   "metadata": {},
   "source": [
    "##### 2.1 位置参数、关键字参数"
   ]
  },
  {
   "cell_type": "code",
   "execution_count": 10,
   "id": "eff243ca",
   "metadata": {},
   "outputs": [
    {
     "name": "stdout",
     "output_type": "stream",
     "text": [
      "*****\n",
      "*****\n",
      "*****\n",
      "\n",
      "*****\n",
      "*****\n",
      "*****\n",
      "\n",
      "*****\n",
      "*****\n",
      "*****\n"
     ]
    }
   ],
   "source": [
    "def draw_rect(width,height,star):\n",
    "    for i in range(height):\n",
    "        print(star*width)\n",
    "\n",
    "# 位置参数\n",
    "draw_rect(5,3,\"*\")\n",
    "print()\n",
    "\n",
    "# 关键字参数\n",
    "draw_rect(width=5,height=3,star=\"*\")\n",
    "print()\n",
    "\n",
    "# 位置参数和关键字参数混合使用\n",
    "draw_rect(5,height=3,star=\"*\")\n",
    "\n",
    "# 错误示范\n",
    "# draw_rect(width=5,3,\"*\")"
   ]
  },
  {
   "cell_type": "markdown",
   "id": "bad514d5",
   "metadata": {},
   "source": [
    "#### 2.2 可选参数（默认值参数）"
   ]
  },
  {
   "cell_type": "code",
   "execution_count": 12,
   "id": "f2cb6685",
   "metadata": {},
   "outputs": [
    {
     "name": "stdout",
     "output_type": "stream",
     "text": [
      "*****\n",
      "*****\n",
      "*****\n",
      "*****\n",
      "*****\n",
      "*****\n",
      "\n",
      "#####\n",
      "#####\n",
      "#####\n",
      "#####\n",
      "#####\n",
      "#####\n"
     ]
    }
   ],
   "source": [
    "def draw_react3(width,height,star = '*'):\n",
    "    for i in range(height):\n",
    "        print(star * width)\n",
    "\n",
    "# 不写第三个实参\n",
    "draw_react3(5,6)\n",
    "print()\n",
    "# 写第三个实参\n",
    "draw_react3(5,6,'#')"
   ]
  },
  {
   "cell_type": "markdown",
   "id": "3cd438c6",
   "metadata": {},
   "source": [
    "##### 2.3 变长参数"
   ]
  },
  {
   "cell_type": "code",
   "execution_count": 16,
   "id": "6e9023ea",
   "metadata": {},
   "outputs": [
    {
     "name": "stdout",
     "output_type": "stream",
     "text": [
      "欢迎您！张先生\n",
      "您预定的菜单为：('土豆炖牛腩', '奥尔良烤翅', '家常豆腐')\n",
      "进餐人数是3人\n",
      "您附加的要求为{'口味': '偏清淡', '餐桌位置': '偏僻角落'}\n"
     ]
    }
   ],
   "source": [
    "def order_dishes(customer,*dishes,num_people,**addtional_comments):\n",
    "    print(f\"欢迎您！{customer}\")\n",
    "    print(f\"您预定的菜单为：{dishes}\")\n",
    "    print(f\"进餐人数是{num_people}人\")\n",
    "    print(f\"您附加的要求为{addtional_comments}\")\n",
    "\n",
    "# 模拟订餐\n",
    "order_dishes(\"张先生\",\"土豆炖牛腩\",\"奥尔良烤翅\",\"家常豆腐\",num_people=3,口味=\"偏清淡\",餐桌位置=\"偏僻角落\")\n",
    "\n",
    "# 说明：关键字参数的键必须是变量名，而不是字符串，但是输出后会自动加上引号"
   ]
  },
  {
   "cell_type": "markdown",
   "id": "373a42ad",
   "metadata": {},
   "source": [
    "##### 2.4 解包参数\n"
   ]
  },
  {
   "cell_type": "code",
   "execution_count": 18,
   "id": "d23b6318",
   "metadata": {},
   "outputs": [
    {
     "name": "stdout",
     "output_type": "stream",
     "text": [
      "1 2 3\n",
      "6\n"
     ]
    }
   ],
   "source": [
    "# 利用 * 将列表或元组解包为多个参数\n",
    "def func1(a,b,c):\n",
    "    print(a,b,c)\n",
    "    return a + b + c\n",
    "\n",
    "args = [1,2,3]\n",
    "res = func1(*args)\n",
    "print(res)"
   ]
  },
  {
   "cell_type": "code",
   "execution_count": 19,
   "id": "c22444a5",
   "metadata": {},
   "outputs": [
    {
     "name": "stdout",
     "output_type": "stream",
     "text": [
      "1 2 3\n",
      "6\n"
     ]
    }
   ],
   "source": [
    "# 利用 ** 将字典键值对解包为多个关键字参数\n",
    "def func2(x,y,z):\n",
    "    print(x,y,z)\n",
    "    return x + y + z\n",
    "\n",
    "kargs = {\"x\":1,\"y\":2,\"z\":3}\n",
    "res = func2(**kargs)\n",
    "print(res)"
   ]
  },
  {
   "cell_type": "markdown",
   "id": "a8657abc",
   "metadata": {},
   "source": [
    "##### 2.6 传递列表"
   ]
  },
  {
   "cell_type": "markdown",
   "id": "dc1fb486",
   "metadata": {},
   "source": [
    "a. 一个对照试验\n"
   ]
  },
  {
   "cell_type": "code",
   "execution_count": 32,
   "id": "aaa85760",
   "metadata": {},
   "outputs": [
    {
     "name": "stdout",
     "output_type": "stream",
     "text": [
      "调用增量函数前，count_value的值是100, 标识是140729707804184\n",
      "执行增量前，count的值是100, 标识是140729707804184\n",
      "执行增量后，count的值是110, 标识是140729707804504\n",
      "调用增量函数后，count_value的值是100, 标识是140729707804184\n",
      "\n",
      "调用增量函数前，count_values的值是[100, 200, 300], 标识是2318735827904\n",
      "执行增量前，counts的值是[100, 200, 300], 标识是2318735827904\n",
      "执行增量后，counts的值是[110, 210, 310], 标识是2318735827904\n",
      "调用增量函数后，count_values的值是[110, 210, 310], 标识是2318735827904\n"
     ]
    }
   ],
   "source": [
    "# 定义函数increment_count\n",
    "def increment_count(count:int, increment:int):\n",
    "    \"\"\"使count的值增加increment\"\"\"\n",
    "    print(f\"执行增量前，count的值是{count}, 标识是{id(count)}\")\n",
    "    count += increment\n",
    "    print(f\"执行增量后，count的值是{count}, 标识是{id(count)}\")\n",
    "\n",
    "# 定义函数increment_counts\n",
    "def increment_counts(counts:list, increment:int):\n",
    "    \"\"\"使counts中所有元素的值增加increment\"\"\"\n",
    "    print(f\"执行增量前，counts的值是{counts}, 标识是{id(counts)}\")\n",
    "    for i in range(len(counts)):\n",
    "        counts[i] += increment\n",
    "    print(f\"执行增量后，counts的值是{counts}, 标识是{id(counts)}\")\n",
    "\n",
    "# 对比实验\n",
    "count_value = 100\n",
    "print(f\"调用增量函数前，count_value的值是{count_value}, 标识是{id(count_value)}\")\n",
    "increment_count(count_value, 10) # 把整数100的引用传递给形参count\n",
    "print(f\"调用增量函数后，count_value的值是{count_value}, 标识是{id(count_value)}\")\n",
    "print()\n",
    "\n",
    "count_values = [100, 200, 300]\n",
    "print(f\"调用增量函数前，count_values的值是{count_values}, 标识是{id(count_values)}\")\n",
    "increment_counts(count_values, 10) # 把列表对象[100, 200, 300]的引用传递给形参counts\n",
    "print(f\"调用增量函数后，count_values的值是{count_values}, 标识是{id(count_values)}\")\n"
   ]
  },
  {
   "cell_type": "markdown",
   "id": "a7d39f25",
   "metadata": {},
   "source": [
    "说明：\n",
    "- 整数 100 是不可变对象，函数操作对100没有影响，也不会改变 `count_value` 对100的引用，执行增量后，`count` 引用了一个新对象，其值为110，其标识不同于100的标识\n",
    "- 列表 [100,200,300] 为可变对象，函数操作对其有影响，执行增量前后，`count_values` 和 `counts` 引用的都是这个列表对象"
   ]
  },
  {
   "cell_type": "markdown",
   "id": "dc9da125",
   "metadata": {},
   "source": [
    "b. 随机混排给定列表的元素值"
   ]
  },
  {
   "cell_type": "code",
   "execution_count": 33,
   "id": "171d2697",
   "metadata": {},
   "outputs": [
    {
     "name": "stdout",
     "output_type": "stream",
     "text": [
      "[5, 1, 4, 3, 2]\n"
     ]
    }
   ],
   "source": [
    "import random\n",
    "def shuffle(lst):\n",
    "    for i in range(len(lst)):\n",
    "        j = random.randint(0,len(lst)-1)\n",
    "        lst[i],lst[j] = lst[j],lst[i]\n",
    "\n",
    "# 对shuffle函数进行测试\n",
    "def test_shuffle():\n",
    "    v = [1,2,3,4,5]\n",
    "    shuffle(v)\n",
    "    print(v)\n",
    "\n",
    "test_shuffle()"
   ]
  },
  {
   "cell_type": "markdown",
   "id": "28c500d4",
   "metadata": {},
   "source": [
    "c. 来访者登记簿程序：定义函数 `check_in` 登记来访者的姓名和电话，并把记录保存到一个来访者列表\n"
   ]
  },
  {
   "cell_type": "code",
   "execution_count": 34,
   "id": "d1cbd47c",
   "metadata": {},
   "outputs": [
    {
     "name": "stdout",
     "output_type": "stream",
     "text": [
      "[('沙', '123456'), ('夏', '234567'), ('灿', '345678')]\n"
     ]
    }
   ],
   "source": [
    "def check_in(visitors:list):\n",
    "    \"\"\"记录来访者输入的姓名和联系电话，追加到visitors\"\"\"\n",
    "    name = input(\"请输入姓名：\")\n",
    "    tel = input(\"联系电话：\")\n",
    "    visitors.append((name,tel))\n",
    "\n",
    "visitor_book = []    # 定义列表用来保存即将到来的来访者信息\n",
    "\n",
    "# 假设有 3 名来访者的信息要登记，'_'用作临时循环变量\n",
    "for _ in range(3):\n",
    "    check_in(visitor_book)\n",
    "\n",
    "print(visitor_book)"
   ]
  },
  {
   "cell_type": "markdown",
   "id": "7b6b7245",
   "metadata": {},
   "source": [
    "#### 3. 函数的返回值"
   ]
  },
  {
   "cell_type": "markdown",
   "id": "75b57388",
   "metadata": {},
   "source": [
    "##### 3.1 返回简单值\n",
    "定义函数circle_area，根据半径计算圆的面积"
   ]
  },
  {
   "cell_type": "code",
   "execution_count": 22,
   "id": "94723eba",
   "metadata": {},
   "outputs": [
    {
     "name": "stdout",
     "output_type": "stream",
     "text": [
      "半径为 4 的圆的面积为 50.27\n"
     ]
    }
   ],
   "source": [
    "# 定义函数circle_area，根据半径计算圆的面积\n",
    "import math\n",
    "\n",
    "def circle_area(r):\n",
    "    return math.pi*r**2\n",
    "\n",
    "radius = eval(input(\"请输入圆的半径为：r = \"))\n",
    "area = circle_area(radius)\n",
    "print(f\"半径为 {radius} 的圆的面积为 {area:.2f}\")\n"
   ]
  },
  {
   "cell_type": "markdown",
   "id": "331acdc3",
   "metadata": {},
   "source": [
    "##### 3.2 返回逻辑值\n",
    "定义函数 is_even 检测任意一个大于零的整数是否为整数，返回检测结果，是一个布尔型的逻辑值"
   ]
  },
  {
   "cell_type": "code",
   "execution_count": 24,
   "id": "cc3eb0dd",
   "metadata": {},
   "outputs": [
    {
     "name": "stdout",
     "output_type": "stream",
     "text": [
      "4 是大于 0 的偶数\n"
     ]
    }
   ],
   "source": [
    "# 定义函数 is_even 检测任意一个大于零的整数是否为整数，返回检测结果，是一个布尔型的逻辑值\n",
    "def is_even(n):\n",
    "    if n > 0 and n % 2 == 0:\n",
    "        return True\n",
    "    else:\n",
    "        return False\n",
    "\n",
    "num = int(input(\"请输入一个大于零的偶数：\"))\n",
    "if is_even(num):\n",
    "    print(f\"{num} 是大于 0 的偶数\")\n",
    "else:\n",
    "    print(\"不满足条件：不是大于零的偶数\")"
   ]
  },
  {
   "cell_type": "markdown",
   "id": "dd8932e3",
   "metadata": {},
   "source": [
    "##### 3.3 包含多个 `return` 语句的函数\n",
    "定义函数is_prime判断一个数是否为素数，编写测试代码判断并输出1~99中的素数"
   ]
  },
  {
   "cell_type": "code",
   "execution_count": 28,
   "id": "137abe35",
   "metadata": {},
   "outputs": [
    {
     "name": "stdout",
     "output_type": "stream",
     "text": [
      "1~99 内的素数有 2,3,5,7,11,13,17,19,23,29,31,37,41,43,47,53,59,61,67,71,73,79,83,89,97\n"
     ]
    }
   ],
   "source": [
    "# 定义函数is_prime判断一个数是否为素数，编写测试代码判断并输出1~99中的素数\n",
    "def is_prime(n):\n",
    "    if n < 2:\n",
    "        return False\n",
    "    elif n == 2:\n",
    "        return True\n",
    "    else:\n",
    "        i = 2\n",
    "        while i <= n // 2 + 1:\n",
    "            if n % i == 0:\n",
    "                return False\n",
    "            else:\n",
    "                i += 1\n",
    "        return True\n",
    "\n",
    "prime_lst = []\n",
    "for j in range(1,100):\n",
    "    if is_prime(j):\n",
    "        prime_lst.append(j)\n",
    "\n",
    "print(f\"1~99 内的素数有 {','.join(map(str,prime_lst))}\")\n"
   ]
  },
  {
   "cell_type": "markdown",
   "id": "7872f153",
   "metadata": {},
   "source": [
    "##### 3.4 返回元组（包含多个值）\n",
    "定义一个函数describe，计算一组数的 3 个基本描述性统计量（最大值、最小值和平均值），返回这三个统计量"
   ]
  },
  {
   "cell_type": "code",
   "execution_count": 31,
   "id": "4505760f",
   "metadata": {},
   "outputs": [
    {
     "name": "stdout",
     "output_type": "stream",
     "text": [
      "(1, 2, 3, 4)\n",
      "最大值为 4\n",
      "最小值为 1\n",
      "平均值为 2.5\n"
     ]
    }
   ],
   "source": [
    "# 定义一个函数describe，计算一组数的 3 个基本描述性统计量（最大值、最小值和平均值），返回这三个统计量\n",
    "def describe(*args):\n",
    "    maximum = max(args)\n",
    "    minimum = min(args)\n",
    "    medium = sum(args)/len(args)\n",
    "    return maximum,minimum,medium\n",
    "\n",
    "lst = eval(input(\"请输入一组数据：\"))\n",
    "print(lst)\n",
    "\n",
    "describe_tup = describe(*lst)\n",
    "\n",
    "print(f\"最大值为 {describe_tup[0]}\")\n",
    "print(f\"最小值为 {describe_tup[1]}\")\n",
    "print(f\"平均值为 {describe_tup[2]}\")"
   ]
  },
  {
   "cell_type": "markdown",
   "id": "611efac0",
   "metadata": {},
   "source": [
    "#### 4. 函数式编程（综合利用纯函数、高阶函数）\n",
    "##### 计算器模拟程序"
   ]
  },
  {
   "cell_type": "code",
   "execution_count": 1,
   "id": "a2c9a63e",
   "metadata": {},
   "outputs": [
    {
     "name": "stdout",
     "output_type": "stream",
     "text": [
      "46\n",
      "46\n",
      "46\n",
      "46\n",
      "46\n"
     ]
    }
   ],
   "source": [
    "# 定义加减乘除的纯函数\n",
    "def add(x,y):\n",
    "    \"\"\"加法运算 + \"\"\"\n",
    "    return x + y\n",
    "def substract(x,y):\n",
    "    \"\"\"减法运算\"\"\"\n",
    "    return x - y\n",
    "def multiply(x,y):\n",
    "    \"\"\"乘法运算\"\"\"\n",
    "    return x * y\n",
    "def divide(x,y):\n",
    "    \"\"\"乘法运算\"\"\"\n",
    "    return x/y\n",
    "\n",
    "\n",
    "# 定义纯函数和高阶函数\n",
    "\n",
    "# 返回运算符\n",
    "def calc_function(operator_code):\n",
    "    \"\"\"根据operator_code的值返回相应运算的函数\"\"\"\n",
    "    functions = [add,substract,multiply,divide]\n",
    "    return functions[\"+-*/\".index(operator_code)]\n",
    "\n",
    "def calc(function,x,y):\n",
    "    \"\"\"function接收函数参数\"\"\"\n",
    "    return function(x,y)\n",
    "\n",
    "def calculator(operator_code,x,y):\n",
    "    \"\"\"根据operator_code的值完成x和y的运算\"\"\"\n",
    "    function = calc_function(operator_code)\n",
    "    result = calc(function,x,y)\n",
    "    return result\n",
    "\n",
    "\n",
    "# 主程序——计算12和34的和\n",
    "\n",
    "# 1.利用纯函数直接计算\n",
    "print(add(12,34))\n",
    "\n",
    "# 2. 将add函数赋值给变量add_function中\n",
    "add_function = add\n",
    "print(add_function(12,34))    # 该变量可以作为函数名来调用\n",
    "\n",
    "# 3. 利用calc_function\n",
    "print(calc_function(\"+\")(12,34))\n",
    "\n",
    "# 4. 利用calc,add做实参\n",
    "print(calc(add,12,34))\n",
    "  \n",
    "# 5. 利用calculator\n",
    "print(calculator(\"+\",12,34))\n"
   ]
  },
  {
   "cell_type": "markdown",
   "id": "42eb0abe",
   "metadata": {},
   "source": [
    "#### 5.利用内置函数进行函数式编程\n",
    "##### 5.1 利用 `map()` 函数\n",
    "a. 输入一个三位数，把每一位上的数分别赋值给a,b,c\n"
   ]
  },
  {
   "cell_type": "code",
   "execution_count": 5,
   "id": "8ceed7c7",
   "metadata": {},
   "outputs": [
    {
     "name": "stdout",
     "output_type": "stream",
     "text": [
      "7 8 9\n",
      "<map object at 0x00000246CC30E470>\n",
      "[7, 8, 9]\n"
     ]
    }
   ],
   "source": [
    "x = input(\"请输入一个三位数：\")\n",
    "a,b,c = map(int,x)\n",
    "print(a,b,c)\n",
    "\n",
    "# map对象不能通过print()函数显示元素值，可以调用list()函数把它转换为列表对象后输出\n",
    "print(map(list,x))\n",
    "lst = list(map(int,x))\n",
    "print(lst)"
   ]
  },
  {
   "cell_type": "markdown",
   "id": "b10f029c",
   "metadata": {},
   "source": [
    "b. 利用 `map()` 函数计算一个数据集中每项数据的平方"
   ]
  },
  {
   "cell_type": "code",
   "execution_count": 6,
   "id": "00a271a1",
   "metadata": {},
   "outputs": [
    {
     "name": "stdout",
     "output_type": "stream",
     "text": [
      "[1, 4, 9, 16, 25, 36]\n"
     ]
    }
   ],
   "source": [
    "def square(x):\n",
    "    return x*x\n",
    "\n",
    "lst = [1,2,3,4,5,6]\n",
    "\n",
    "square_lst = list(map(square,lst))\n",
    "print(square_lst)"
   ]
  },
  {
   "cell_type": "markdown",
   "id": "a23b303e",
   "metadata": {},
   "source": [
    "c. 多个可迭代对象"
   ]
  },
  {
   "cell_type": "code",
   "execution_count": 8,
   "id": "7267903e",
   "metadata": {},
   "outputs": [
    {
     "name": "stdout",
     "output_type": "stream",
     "text": [
      "[7, 9, 11, 13]\n"
     ]
    }
   ],
   "source": [
    "def add(x,y):\n",
    "    return x + y\n",
    "\n",
    "lst1 = [1,2,3,4]\n",
    "lst2 = [6,7,8,9]\n",
    "\n",
    "lst3 = list(map(add,lst1,lst2))\n",
    "print(lst3)"
   ]
  },
  {
   "cell_type": "markdown",
   "id": "28f077eb",
   "metadata": {},
   "source": [
    "#### 5.2 `lambda`表达式（匿名函数）\n",
    "a. 按照学生总成绩对列表进行排序"
   ]
  },
  {
   "cell_type": "code",
   "execution_count": 12,
   "id": "9f53f259",
   "metadata": {},
   "outputs": [
    {
     "name": "stdout",
     "output_type": "stream",
     "text": [
      "[['陈琪', 93, 91, 88], ['余涛', 88, 90, 87], ['金浩', 91, 88, 85], ['李华', 85, 87, 80], ['郑燕', 82, 78, 80]]\n",
      "['陈琪', 93, 91, 88]\n"
     ]
    }
   ],
   "source": [
    "# 保存5位学生的姓名和3门课成绩\n",
    "score_sheet = [\n",
    "    ['李华', 85, 87, 80],\n",
    "    ['陈琪', 93, 91, 88],\n",
    "    ['余涛', 88, 90, 87],\n",
    "    ['郑燕', 82, 78, 80],\n",
    "    ['金浩', 91, 88, 85]]\n",
    "\n",
    "# 按学生的成绩总分从高到低的顺序排序\n",
    "ordered_sheet = sorted(score_sheet,reverse = True,key = lambda x:sum(x[1:]))\n",
    "print(ordered_sheet)\n",
    "\n",
    "# 利用max函数从成绩表中选出总分最高的学生\n",
    "highest_student = max(score_sheet,key = lambda x:sum(x[1:]))\n",
    "print(highest_student)"
   ]
  },
  {
   "cell_type": "markdown",
   "id": "00ab0cde",
   "metadata": {},
   "source": [
    "b. 生成一个包含多个列表(元素为从1到10的整数)的列表，并按照子列表的第二个和第五个数字的升序对该列表进行排序"
   ]
  },
  {
   "cell_type": "code",
   "execution_count": null,
   "id": "9acb1e68",
   "metadata": {},
   "outputs": [
    {
     "name": "stdout",
     "output_type": "stream",
     "text": [
      "[5, 1, 6, 6, 1]\n",
      "[7, 4, 7, 4, 5]\n",
      "[8, 9, 8, 6, 6]\n",
      "[6, 5, 4, 2, 5]\n",
      "[9, 10, 2, 5, 9]\n",
      "\n",
      "[5, 1, 6, 6, 1]\n",
      "[7, 4, 7, 4, 5]\n",
      "[6, 5, 4, 2, 5]\n",
      "[8, 9, 8, 6, 6]\n",
      "[9, 10, 2, 5, 9]\n"
     ]
    }
   ],
   "source": [
    "import random\n",
    "\n",
    "lst = [[random.randint(1,10) for i in range(5)] for j in range(5)]\n",
    "\n",
    "for row in lst:\n",
    "    print(row)\n",
    "print()\n",
    "\n",
    "ordered_lst = sorted(lst,reverse = False,key = lambda x:(x[1],x[4]))\n",
    "for line in ordered_lst:\n",
    "    print(line)\n",
    "\n",
    "# 注意：按两个元素进行升序，首先比较x[1],若x[1]相同，再比较x[4]"
   ]
  },
  {
   "cell_type": "markdown",
   "id": "8414a316",
   "metadata": {},
   "source": [
    "##### 5.3 `filter()` 函数\n",
    "用 `filter()` 函数找出平均分大于或等于85分的学生\n"
   ]
  },
  {
   "cell_type": "code",
   "execution_count": 17,
   "id": "436118b2",
   "metadata": {},
   "outputs": [
    {
     "name": "stdout",
     "output_type": "stream",
     "text": [
      "[['陈琪', 93, 91, 88], ['余涛', 88, 90, 87], ['金浩', 91, 88, 85]]\n"
     ]
    }
   ],
   "source": [
    "# 保存5位学生的姓名和3门课成绩\n",
    "score_sheet = [\n",
    "    ['李华', 85, 87, 80],\n",
    "    ['陈琪', 93, 91, 88],\n",
    "    ['余涛', 88, 90, 87],\n",
    "    ['郑燕', 82, 78, 80],\n",
    "    ['金浩', 91, 88, 85]]\n",
    "\n",
    "student_filter = filter(lambda x:sum(x[1:])/(len(x)-1)>85,score_sheet)\n",
    "print(list(student_filter))"
   ]
  },
  {
   "cell_type": "markdown",
   "id": "9f28245e",
   "metadata": {},
   "source": [
    "##### 5.4 `reduce()` 函数\n",
    "利用函数 `reduce()` 计算一组数的乘积\n"
   ]
  },
  {
   "cell_type": "code",
   "execution_count": 18,
   "id": "e415d23b",
   "metadata": {},
   "outputs": [
    {
     "name": "stdout",
     "output_type": "stream",
     "text": [
      "120\n"
     ]
    }
   ],
   "source": [
    "from functools import reduce \n",
    "\n",
    "lst = [1,2,3,4,5]\n",
    "\n",
    "m = reduce(lambda x,y:x*y,lst)\n",
    "print(m)"
   ]
  },
  {
   "cell_type": "markdown",
   "id": "6362d871",
   "metadata": {},
   "source": [
    "#### 6. 递归函数\n",
    "##### 6.1 定义一个简单的递归函数，计算斐波那契数列的第n项，其中第0项是0，第一项是1，第二项后每一项为其前一项之和"
   ]
  },
  {
   "cell_type": "code",
   "execution_count": 21,
   "id": "fc377905",
   "metadata": {},
   "outputs": [
    {
     "name": "stdout",
     "output_type": "stream",
     "text": [
      "55\n",
      "143\n"
     ]
    }
   ],
   "source": [
    "def fib(n):\n",
    "    \"\"\"用递归函数的方法计算斐波那契数列的第n项\"\"\"\n",
    "    if n == 0 or n == 1:      # 递归基（基本情形）\n",
    "        return  n\n",
    "    else:\n",
    "        return fib(n-1) + fib(n-2)\n",
    "\n",
    "# 计算第十项\n",
    "fib_10 = fib(10)\n",
    "print(fib_10)\n",
    "# 计算前10项之和\n",
    "fib_10_sum = sum([fib(i) for i in range(1,11)])\n",
    "print(fib_10_sum)"
   ]
  },
  {
   "cell_type": "markdown",
   "id": "c6976321",
   "metadata": {},
   "source": [
    "##### 6.2 汉诺塔问题\n",
    "递归步骤的核心思路\\\n",
    "当 n > 1 时，要把 n 个圆盘从 x 移动到 z，可以分解为三个子任务：\n",
    "- 先移动上面的 n-1 个圆盘：把它们从起始柱 x 移动到辅助柱 y（借助目标柱 z 作为临时辅助）。\n",
    "- 移动最大的圆盘：把第 n 个圆盘（最大的那个）从起始柱 x 直接移动到目标柱 z。\n",
    "- 再移动剩下的 n-1 个圆盘：把之前暂存在辅助柱 y 上的 n-1 个圆盘，移动到目标柱 z（借助起始柱 x 作为临时辅助）。"
   ]
  },
  {
   "cell_type": "code",
   "execution_count": 26,
   "id": "3969d55c",
   "metadata": {},
   "outputs": [
    {
     "name": "stdout",
     "output_type": "stream",
     "text": [
      "1\tX-->Z\n",
      "2\tX-->Y\n",
      "1\tZ-->Y\n",
      "3\tX-->Z\n",
      "1\tY-->X\n",
      "2\tY-->Z\n",
      "1\tX-->Z\n"
     ]
    }
   ],
   "source": [
    "# 定义圆盘移动函数\n",
    "def move(di,s,d):\n",
    "    \"\"\"把编号为di的圆盘从塔s移动到d\"\"\"\n",
    "    print(f\"{di}\\t{s}-->{d}\")\n",
    "\n",
    "# 定义求解汉诺塔问题的递归函数\n",
    "def hanoi(n,x,y,z):\n",
    "    if n == 1:\n",
    "        move(n,x,z)\n",
    "    else:\n",
    "        hanoi(n-1,x,z,y)\n",
    "        move(n,x,z)\n",
    "        hanoi(n-1,y,x,z)\n",
    "\n",
    "hanoi(3,\"X\",\"Y\",\"Z\")"
   ]
  },
  {
   "cell_type": "markdown",
   "id": "4ccce4df",
   "metadata": {},
   "source": [
    "##### 6.3 用递归的方式来反转字符串"
   ]
  },
  {
   "cell_type": "code",
   "execution_count": 27,
   "id": "63ee11ee",
   "metadata": {},
   "outputs": [
    {
     "name": "stdout",
     "output_type": "stream",
     "text": [
      "Hello\n",
      "olleH\n"
     ]
    }
   ],
   "source": [
    "def reverse_string(s):\n",
    "    if len(s) <= 1:\n",
    "        return s\n",
    "    return reverse_string(s[1:]) + s[0]\n",
    "\n",
    "print(\"Hello\")\n",
    "print(reverse_string(\"Hello\"))"
   ]
  },
  {
   "cell_type": "markdown",
   "id": "e9b6a0b6",
   "metadata": {},
   "source": [
    "##### 6.4 用递归法则对整数进行质因数分解"
   ]
  },
  {
   "cell_type": "code",
   "execution_count": 34,
   "id": "aba16306",
   "metadata": {},
   "outputs": [
    {
     "name": "stdout",
     "output_type": "stream",
     "text": [
      "21\n",
      "[3, 7]\n"
     ]
    }
   ],
   "source": [
    "import random\n",
    "\n",
    "def factors(num,fac = []):\n",
    "    for i in range(2,int(num/2)+1):\n",
    "        if num % i == 0:\n",
    "            fac.append(i)\n",
    "            factors(num//i,fac)\n",
    "            break\n",
    "    else:\n",
    "        fac.append(num)\n",
    "factors_lst = []\n",
    "n = random.randint(2,100)\n",
    "print(n)\n",
    "factors(n,factors_lst)\n",
    "print(factors_lst)"
   ]
  },
  {
   "cell_type": "markdown",
   "id": "43583ac0",
   "metadata": {},
   "source": [
    "### 二. 实践作业\n",
    "___"
   ]
  },
  {
   "cell_type": "markdown",
   "id": "6ac0df72",
   "metadata": {},
   "source": [
    "#### 1. 编写程序，定义一个求斐波那契数列的函数fib(n)，并编写测试代码，输出前20项。要求一行输出10项，每项至少占5个字符位置，右对齐。"
   ]
  },
  {
   "cell_type": "code",
   "execution_count": 38,
   "id": "756b8340",
   "metadata": {},
   "outputs": [
    {
     "name": "stdout",
     "output_type": "stream",
     "text": [
      "    1    1    2    3    5    8   13   21   34   55\n",
      "   89  144  233  377  610  987 1597 2584 4181 6765\n"
     ]
    }
   ],
   "source": [
    "def fib(n):\n",
    "    \"\"\"用于生成斐波那契数列,参数n表示数列的项数\"\"\"\n",
    "    H_i = []\n",
    "    for i in range(1,n + 1):\n",
    "        if i == 1 or i == 2:\n",
    "            H_i.append(1)\n",
    "        else:\n",
    "            H_i.append(H_i[i-2]+H_i[i-3])\n",
    "    return H_i\n",
    "\n",
    "num_seq = int(input(\"请输入要输出的斐波那契数列的项数：n = \"))\n",
    "fib_lst = fib(num_seq)\n",
    "for j in fib_lst:\n",
    "    print(f\"{j:>5}\",end = '')\n",
    "    if (fib_lst.index(j)+1) % 10 == 0:\n",
    "        print()\n",
    "\n"
   ]
  },
  {
   "cell_type": "code",
   "execution_count": 42,
   "id": "9a0f8d26",
   "metadata": {},
   "outputs": [
    {
     "name": "stdout",
     "output_type": "stream",
     "text": [
      "    1    1    2    3    5    8   13   21   34   55\n",
      "   89  144  233  377  610  987 1597 2584 4181 6765\n"
     ]
    }
   ],
   "source": [
    "def fib2(n):\n",
    "    \"\"\"用于生成斐波那契数列的第n项\"\"\"\n",
    "    if n == 0 or n == 1:\n",
    "        return n\n",
    "    else:\n",
    "        return fib2(n-1) + fib2(n-2)\n",
    "\n",
    "num_seq = int(input(\"请输入要输出的斐波那契数列的项数：n = \"))\n",
    "fib_lst = [fib2(i) for i in range(1,num_seq + 1)]\n",
    "count = 0\n",
    "for j in fib_lst:\n",
    "    count += 1\n",
    "    print(f\"{j:>5}\",end = '')\n",
    "    if count % 10 == 0:\n",
    "        print()"
   ]
  },
  {
   "cell_type": "markdown",
   "id": "53643392",
   "metadata": {},
   "source": [
    "#### 2. 编写程序，定义一个函数IsPerfectNumber(n)判断一个整数是否是完全数。如果一个整数的所有因子的和等于该整数，它就是完全数。用该函数找出1~1000内的所有完全数。"
   ]
  },
  {
   "cell_type": "code",
   "execution_count": 44,
   "id": "2e6f7340",
   "metadata": {},
   "outputs": [
    {
     "name": "stdout",
     "output_type": "stream",
     "text": [
      "[6, 28, 496]\n"
     ]
    }
   ],
   "source": [
    "def IsPerfectNumber(n):\n",
    "    \"\"\"用于判断一个数是否是完全数\"\"\"\n",
    "    factors = [] \n",
    "    for i in range(1,int(n/2) + 1):\n",
    "        if n % i == 0:\n",
    "            factors.append(i)\n",
    "    if sum(factors) == n:\n",
    "        return True\n",
    "    else:\n",
    "        return False\n",
    "\n",
    "perfect_lst = [i for i in range(1,1001) if IsPerfectNumber(i)]\n",
    "print(perfect_lst)"
   ]
  },
  {
   "cell_type": "markdown",
   "id": "462c20e5",
   "metadata": {},
   "source": [
    "#### 3. 编写程序，利用可变参数定义一个求任意2个或更多数中最小值的函数min_n(a, b, *c)，并编写测试代码。\n",
    "例如，print(min_n(8, 2))，print(min_n(16, 1, 7, 4, 15))"
   ]
  },
  {
   "cell_type": "code",
   "execution_count": 45,
   "id": "3f73617f",
   "metadata": {},
   "outputs": [
    {
     "name": "stdout",
     "output_type": "stream",
     "text": [
      "2\n",
      "1\n"
     ]
    }
   ],
   "source": [
    "def min_n(a,b,*c):\n",
    "    \"\"\"求出最小值\"\"\"\n",
    "    if a > b:\n",
    "        a = b\n",
    "    for i in c:\n",
    "        if a > i:\n",
    "            a = i\n",
    "    return a\n",
    "\n",
    "print(min_n(8,2))\n",
    "print(min_n(16,1,7,4,15))"
   ]
  },
  {
   "cell_type": "markdown",
   "id": "4fa2fccf",
   "metadata": {},
   "source": [
    "#### 4. 编写程序，利用元组作为函数的返回值，求序列数据中的最大值、最小值和元素个数，并编写测试代码。假设测试数据分别为s1=[9,7,8,3,2,1,55,6]，s2=[\"apple\", \"pear\", \"meton\", \"kiwi\"]和s3=\"TheQuickBrownFox\"。运行效果如下：\n",
    "  \n",
    "\n",
    "list=[9,7,8,3,2,1,55,6]\\\n",
    "最大值=55, 最小值=1, 元素个数=8\\\n",
    "list=[\"apple\", \"pear\", \"meton\", \"kiwi\"]\\\n",
    "最大值=pear, 最小值=apple, 元素个数=4\\\n",
    "list=TheQuickBrownFox\\\n",
    "最大值=x, 最小值=B, 元素个数=16"
   ]
  },
  {
   "cell_type": "code",
   "execution_count": 46,
   "id": "b89b9e1e",
   "metadata": {},
   "outputs": [
    {
     "name": "stdout",
     "output_type": "stream",
     "text": [
      "list = [9, 7, 8, 3, 2, 1, 55, 6]\n",
      "最大值 = 55，最小值 = 1，元素个数 = 8\n",
      "list = ['apple', 'pear', 'meton', 'kiwi']\n",
      "最大值 = pear，最小值 = apple，元素个数 = 4\n",
      "list = TheQuickBrownFox\n",
      "最大值 = x，最小值 = B，元素个数 = 16\n"
     ]
    }
   ],
   "source": [
    "def describe(lst):\n",
    "    \"\"\"序列数据中的最大值、最小值和元素个数\"\"\"\n",
    "    max_value = max(lst)\n",
    "    min_value = min(lst)\n",
    "    num = len(lst)\n",
    "    return max_value,min_value,num\n",
    "\n",
    "# 定义测试函数\n",
    "def test():\n",
    "    # 定义三个测试序列\n",
    "    s1 = [9,7,8,3,2,1,55,6]\n",
    "    s2 = [\"apple\", \"pear\", \"meton\", \"kiwi\"]\n",
    "    s3 = \"TheQuickBrownFox\"\n",
    "    \n",
    "    # 将三个测试序列存储在一个列表s中\n",
    "    s = [s1,s2,s3]\n",
    "    \n",
    "    # 遍历列表s中的每个序列\n",
    "    for i in s:\n",
    "        # 调用basic_infor函数，获取当前序列的最大值、最小值和元素个数\n",
    "        a,b,c = describe(i)\n",
    "        # 打印当前序列\n",
    "        print(f\"list = {i}\")\n",
    "        # 打印序列的最大值、最小值和元素个数\n",
    "        print(\"最大值 = {0}，最小值 = {1}，元素个数 = {2}\".format(a,b,c))\n",
    "\n",
    "# 调用测试函数test\n",
    "test()"
   ]
  },
  {
   "cell_type": "markdown",
   "id": "dfc5a656",
   "metadata": {},
   "source": [
    "#### 5. 编写程序，定义一个查找函数search(dataset, k)，在 dataset 列表中查找指定的数 k 出现的所有位置，然后编写测试代码，产生一组随机整数，由用户输入要找的数，使用search函数查找，并输出查找结果。"
   ]
  },
  {
   "cell_type": "code",
   "execution_count": 49,
   "id": "555b57f9",
   "metadata": {},
   "outputs": [
    {
     "name": "stdout",
     "output_type": "stream",
     "text": [
      "[37, 22, 89, 66, 20, 94, 86, 47, 24, 80, 80, 22, 97, 50, 47, 85, 48, 40, 32, 63]\n",
      "88不在该列表之中\n"
     ]
    }
   ],
   "source": [
    "import random\n",
    "\n",
    "def search(dataset,k):\n",
    "    \"\"\"\n",
    "    在 dataset 列表中查找指定数字 k 出现的所有位置。\n",
    "\n",
    "    :param dataset: 列表，包含随机整数\n",
    "    :param k: 要查找的数字\n",
    "    :return: None,直接打印结果\n",
    "    \"\"\"\n",
    "    location = []\n",
    "    for i in range(len(dataset)):\n",
    "        if dataset[i] == k:\n",
    "            location.append(i + 1)\n",
    "    if location:\n",
    "        print(f\"{k}出现在第{\",\".join(map(str,location))}个位置\")\n",
    "    else:\n",
    "        print(f\"{k}不在该列表之中\")\n",
    "\n",
    "\n",
    "lower,upper = eval(input(\"请输入随机数字列表的范围（最小值和最大值，用“,”隔开）:\"))\n",
    "length = int(input(\"请输入列表的长度为：\"))\n",
    "n = int(input(\"请输入你要查找的数字：\"))\n",
    "lst = [random.randint(lower,upper) for i in range(length)]\n",
    "print(lst)\n",
    "search(lst,n)\n"
   ]
  },
  {
   "cell_type": "markdown",
   "id": "164db227",
   "metadata": {},
   "source": [
    "#### 6. 编写并测试一个递归函数mymax，它找出列表中最大的数字。\n",
    "  提示：mymax是第一个数据项和所有其他数据项的最大值中较大的一个。例如，mymax([23,12,64,8,39])的返回值为64。"
   ]
  },
  {
   "cell_type": "code",
   "execution_count": 50,
   "id": "fe2a9479",
   "metadata": {},
   "outputs": [
    {
     "name": "stdout",
     "output_type": "stream",
     "text": [
      "64\n"
     ]
    }
   ],
   "source": [
    "def mymax(lst:list):\n",
    "    \"\"\"\n",
    "    使用递归方法查找列表 lst 中的最大值。\n",
    "\n",
    "    :param lst: 列表，包含数字\n",
    "    :return: 列表中的最大值\n",
    "    \"\"\"\n",
    "    if len(lst) == 1:\n",
    "        return lst[0]\n",
    "    else:\n",
    "        other_max = mymax(lst[1:])\n",
    "        return lst[0] if lst[0] > other_max else other_max\n",
    "    \n",
    "test_lst = [23,12,64,8,39]\n",
    "print(mymax(test_lst))\n",
    "    "
   ]
  },
  {
   "cell_type": "markdown",
   "id": "c232efb9",
   "metadata": {},
   "source": [
    "#### 7. “回文”是顺着读或倒着读含有相同顺序的字母的句子（不包含标点符号），一个典型的例子是“Able was I, ere I saw Elba”。写一个函数来检测一个字符串是不是回文。\n",
    "  提示：如果打算用递归方法，其基本思想是检查字符串的第一个和最后一个字母是否相同；如果相同，那么如果这两个字母之间的所有内容都是回文，它就是回文。有两种特殊情况需要处理：\\\n",
    "（1）如果字符串中包含有标点符号，需要检查该字符串删除标点；\\\n",
    "（2）在比较字母时，请确保不区分大小写。在程序中使用你的函数，提示用户输入短语，然后指出它是不是回文。另一个经典的测试是“A man, a plan, a canal, Panama!”"
   ]
  },
  {
   "cell_type": "code",
   "execution_count": null,
   "id": "5a19938c",
   "metadata": {},
   "outputs": [],
   "source": []
  },
  {
   "cell_type": "markdown",
   "id": "a363c398",
   "metadata": {},
   "source": [
    "#### 8. 计算机科学家和数学家经常使用 10 以外基数的进制系统。编写一个程序，允许用户输入一个数字和一个基数，然后打印出新基数中的数字。使用递归函数 baseConversion(num, base)打印数字。\n",
    "  提示：以基数为 10（十进制）的数字为例，要获得基数 为10 的数字的最右边的数字，只需除以基数（ 10） 后查看余数。例如，153 % 10 是 3。要获取剩余的数字，你可以对 15 重复该过程， 15 是 153 // 10。这个过程适用于任何基数。唯一的问题是要以相反的顺序得到数字（从右到左）。当 num 小于 base 时会发生递归的基本情况，输出就是 num。在一般情况下，函数（递归）打印 num // base 的数字，然后打印 num % base。你应该在连续输出之间放置一个空格，因为基数大于 10 时，会打印出多个字符的“数字”。例如， baseConversion(1234, 16)应打印 4 13 2。"
   ]
  },
  {
   "cell_type": "code",
   "execution_count": null,
   "id": "ab58052f",
   "metadata": {},
   "outputs": [],
   "source": []
  }
 ],
 "metadata": {
  "kernelspec": {
   "display_name": "volcano",
   "language": "python",
   "name": "python3"
  },
  "language_info": {
   "codemirror_mode": {
    "name": "ipython",
    "version": 3
   },
   "file_extension": ".py",
   "mimetype": "text/x-python",
   "name": "python",
   "nbconvert_exporter": "python",
   "pygments_lexer": "ipython3",
   "version": "3.12.7"
  }
 },
 "nbformat": 4,
 "nbformat_minor": 5
}
