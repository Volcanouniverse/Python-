{
 "cells": [
  {
   "cell_type": "markdown",
   "id": "d30ff999",
   "metadata": {},
   "source": [
    "1. 闰年判断"
   ]
  },
  {
   "cell_type": "code",
   "execution_count": 1,
   "id": "9f0e1649",
   "metadata": {},
   "outputs": [
    {
     "name": "stdout",
     "output_type": "stream",
     "text": [
      "2022年是平年\n"
     ]
    }
   ],
   "source": [
    "year = int(input(\"输入一个年份（正整数）：\"))\n",
    "\n",
    "if year % 400 == 0 or (year % 4 == 0 and year % 100 != 0):\n",
    "    print(f\"{year}年是闰年\")\n",
    "else:\n",
    "    print(f\"{year}年是平年\")"
   ]
  },
  {
   "cell_type": "markdown",
   "id": "8a7c5061",
   "metadata": {},
   "source": [
    "2. 已知坐标点 `(x,y)` ，判断其所在的象限"
   ]
  },
  {
   "cell_type": "code",
   "execution_count": 7,
   "id": "3316c2b5",
   "metadata": {},
   "outputs": [
    {
     "name": "stdout",
     "output_type": "stream",
     "text": [
      "该点属于第一象限\n"
     ]
    }
   ],
   "source": [
    "x,y = eval(input(\"请输入该点的坐标：\"))\n",
    "\n",
    "if x == 0 or y == 0:\n",
    "    print(\"该店不属于任一象限\")\n",
    "else:\n",
    "    if x > 0 and y > 0:\n",
    "        print(\"该点属于第一象限\")\n",
    "    elif x > 0 and y < 0:\n",
    "        print(\"该点属于第四象限\")\n",
    "    elif x < 0 and y > 0:\n",
    "        print(\"该点属于第二象限\")\n",
    "    else:\n",
    "        print(\"该点属于第三象限\")\n"
   ]
  },
  {
   "cell_type": "markdown",
   "id": "7bd29c54",
   "metadata": {},
   "source": [
    "3. `match` 语句的运用"
   ]
  },
  {
   "cell_type": "code",
   "execution_count": 8,
   "id": "56179f58",
   "metadata": {},
   "outputs": [
    {
     "name": "stdout",
     "output_type": "stream",
     "text": [
      "\n",
      "本次列车提供以下3种类型的座位：\n",
      "[1]商务座\n",
      "[2]一等座\n",
      "[3]二等座\n",
      "\n",
      "您选了二等座，正在为您准备。\n"
     ]
    }
   ],
   "source": [
    "\"\"\"根据用户输入的选项执行相应的操作\"\"\"\n",
    "print(\"\"\"\n",
    "本次列车提供以下3种类型的座位：\n",
    "[1]商务座\n",
    "[2]一等座\n",
    "[3]二等座\n",
    "\"\"\")\n",
    "site_type = int(input(\"请输入您的选择（1、2、3）：\"))\n",
    "\n",
    "match site_type:\n",
    "    case 1:\n",
    "        print(\"您选了商务座，正在为您准备。\")\n",
    "    case 2:\n",
    "        print(\"您选了一等座，正在为您准备。\")\n",
    "    case 3:\n",
    "        print(\"您选了二等座，正在为您准备。\")\n",
    "    case _:\n",
    "        print(\"您输入了错误的数字。\")\n"
   ]
  },
  {
   "cell_type": "markdown",
   "id": "a79c5198",
   "metadata": {},
   "source": [
    "4. 求解最大公约数"
   ]
  },
  {
   "cell_type": "code",
   "execution_count": null,
   "id": "433a122a",
   "metadata": {},
   "outputs": [],
   "source": [
    "a,b = eval(input(\"请输入两个数字，用英文逗号隔开：\"))\n",
    "\n",
    "gcd = a if a < b else b\n",
    "\n",
    "while b % gcd != 0 or a % gcd != 0:\n",
    "    gcd -= 1\n"
   ]
  }
 ],
 "metadata": {
  "kernelspec": {
   "display_name": "volcano",
   "language": "python",
   "name": "python3"
  },
  "language_info": {
   "codemirror_mode": {
    "name": "ipython",
    "version": 3
   },
   "file_extension": ".py",
   "mimetype": "text/x-python",
   "name": "python",
   "nbconvert_exporter": "python",
   "pygments_lexer": "ipython3",
   "version": "3.12.7"
  }
 },
 "nbformat": 4,
 "nbformat_minor": 5
}
